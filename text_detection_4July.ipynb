{
 "cells": [
  {
   "cell_type": "code",
   "execution_count": 9,
   "id": "05a24255-7908-4d69-a0d1-4e71f0cb3cb7",
   "metadata": {},
   "outputs": [],
   "source": [
    "from PIL import Image\n",
    "import os\n",
    "import cv2"
   ]
  },
  {
   "cell_type": "markdown",
   "id": "1383ba83-a566-4e90-be35-e25bf30536f7",
   "metadata": {},
   "source": [
    "### Extract Video Frames from Video"
   ]
  },
  {
   "cell_type": "code",
   "execution_count": 14,
   "id": "538f6e47-55d2-41a2-b404-3c49723d8f34",
   "metadata": {},
   "outputs": [
    {
     "name": "stdout",
     "output_type": "stream",
     "text": [
      "Extracting frame..../image_frames/frame0.png\n",
      "Extracting frame..../image_frames/frame50.png\n",
      "Extracting frame..../image_frames/frame100.png\n",
      "Extracting frame..../image_frames/frame150.png\n",
      "Extracting frame..../image_frames/frame200.png\n",
      "Extracting frame..../image_frames/frame250.png\n",
      "Extracting frame..../image_frames/frame300.png\n"
     ]
    }
   ],
   "source": [
    "image_frames = 'image_frames' # path to folder where to save image frames\n",
    "def files(vidname):\n",
    "    try: # Remove image frames path if it already exists\n",
    "        os.remove(image_frames)\n",
    "    except OSError:\n",
    "        pass\n",
    "    if not os.path.exists(image_frames): # create the directory if it does not already exist\n",
    "        os.makedirs(image_frames)\n",
    "\n",
    "    src_vid = cv2.VideoCapture(vidname) # open the video file\n",
    "    return(src_vid)\n",
    "    \n",
    "def process(src_vid):\n",
    "    index = 0\n",
    "    while src_vid.isOpened():\n",
    "        ret, frame = src_vid.read() \n",
    "        if not ret: # break at the end of the video (ret returns True if frame is succesfully read)\n",
    "            break\n",
    "        name = f'./{image_frames}/frame{str(index)}.png'\n",
    "\n",
    "        if index % 50 == 0: # every 50th frame will be saved: can adjust this number to capture more or less frames\n",
    "            print('Extracting frame...' + name)\n",
    "            cv2.imwrite(name, frame)\n",
    "        index = index + 1\n",
    "        \n",
    "    src_vid.release()\n",
    "    cv2.destroyAllWindows()\n",
    "\n",
    "if __name__ == '__main__':\n",
    "    vidname = 'testseq.mp4'\n",
    "    vid = files(vidname)\n",
    "    process(vid)"
   ]
  },
  {
   "cell_type": "markdown",
   "id": "61862b46-0616-470c-bee7-c15a46afbadc",
   "metadata": {},
   "source": [
    "### EAST for text detection"
   ]
  },
  {
   "cell_type": "markdown",
   "id": "798412d1-0c1e-41ee-938d-0125c8976a47",
   "metadata": {},
   "source": [
    "### MMOCR for text recognition"
   ]
  },
  {
   "cell_type": "code",
   "execution_count": null,
   "id": "f4655eca-572f-4428-8022-408f645853f3",
   "metadata": {},
   "outputs": [],
   "source": []
  }
 ],
 "metadata": {
  "kernelspec": {
   "display_name": "Python 3 (ipykernel)",
   "language": "python",
   "name": "python3"
  },
  "language_info": {
   "codemirror_mode": {
    "name": "ipython",
    "version": 3
   },
   "file_extension": ".py",
   "mimetype": "text/x-python",
   "name": "python",
   "nbconvert_exporter": "python",
   "pygments_lexer": "ipython3",
   "version": "3.11.0"
  }
 },
 "nbformat": 4,
 "nbformat_minor": 5
}
