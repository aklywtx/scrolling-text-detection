{
 "cells": [
  {
   "cell_type": "code",
   "execution_count": 2,
   "metadata": {},
   "outputs": [],
   "source": [
    "\n",
    "from PIL import Image\n",
    "import os, sys\n",
    "import cv2\n",
    "from mmocr.apis import MMOCRInferencer\n",
    "import numpy as np\n",
    "from imutils.object_detection import non_max_suppression\n",
    "import random\n",
    "import time"
   ]
  },
  {
   "cell_type": "code",
   "execution_count": 3,
   "metadata": {},
   "outputs": [],
   "source": [
    "random.seed(42)"
   ]
  },
  {
   "cell_type": "markdown",
   "metadata": {},
   "source": [
    "#### You can change some hyperparameters here"
   ]
  },
  {
   "cell_type": "code",
   "execution_count": 4,
   "metadata": {},
   "outputs": [],
   "source": [
    "# some hyperparameter\n",
    "frame_interval = 50 # the interval for extracting frames\n",
    "east_confidence = 0.5\n",
    "opflow_min_area_threshold = 700\n",
    "opflow_height_increase = 0\n",
    "num_frames_for_overlap_check = 3\n",
    "rolling_text_confidence = 0.2 # if the overlapping area / east box area > 0.2, this is a part of the rolling text"
   ]
  },
  {
   "cell_type": "markdown",
   "metadata": {},
   "source": [
    "#### You can change the video path here"
   ]
  },
  {
   "cell_type": "code",
   "execution_count": 5,
   "metadata": {},
   "outputs": [],
   "source": [
    "# file path\n",
    "vidpath = '../data/train8.mp4'"
   ]
  },
  {
   "cell_type": "markdown",
   "metadata": {},
   "source": [
    "### Extract frames"
   ]
  },
  {
   "cell_type": "code",
   "execution_count": 6,
   "metadata": {},
   "outputs": [],
   "source": [
    "def files(vidpath):\n",
    "    base_name = os.path.basename(vidpath)\n",
    "    vidname, _ = os.path.splitext(base_name)  # Split the base name to get the name without the extension\n",
    "    \n",
    "    try: # Remove image frames path if it already exists\n",
    "        os.remove(f\"{vidname}_image_frames\")\n",
    "    except OSError:\n",
    "        pass\n",
    "    if not os.path.exists(f\"{vidname}_image_frames\"): # create the directory if it does not already exist\n",
    "        os.makedirs(f\"{vidname}_image_frames\")\n",
    "\n",
    "    src_vid = cv2.VideoCapture(vidpath) # open the video file\n",
    "    return(src_vid)\n",
    "    \n",
    "def process(src_vid, frame_interval):\n",
    "    base_name = os.path.basename(vidpath)\n",
    "    vidname, _ = os.path.splitext(base_name)  # Split the base name to get the name without the extension\n",
    "    saved_frame_nums = []\n",
    "    \n",
    "    index = 0\n",
    "    while src_vid.isOpened():\n",
    "        ret, frame = src_vid.read() \n",
    "        if not ret: # break at the end of the video (ret returns True if frame is succesfully read)\n",
    "            break\n",
    "        name = f'./{vidname}_image_frames/frame{str(index)}.png'\n",
    "\n",
    "        if index % frame_interval == 0: # every {frame_interval} frame will be saved: can adjust this number to capture more or less frames\n",
    "            print('Extracting frame...' + name)\n",
    "            cv2.imwrite(name, frame)\n",
    "            saved_frame_nums.append(index)\n",
    "        index = index + 1\n",
    "        \n",
    "    src_vid.release()\n",
    "    cv2.destroyAllWindows()\n",
    "    \n",
    "    video_frames_dir = f\"./{vidname}_image_frames\"\n",
    "    \n",
    "    return saved_frame_nums, video_frames_dir"
   ]
  },
  {
   "cell_type": "code",
   "execution_count": 7,
   "metadata": {},
   "outputs": [
    {
     "name": "stdout",
     "output_type": "stream",
     "text": [
      "Extracting frame..../train8_image_frames/frame0.png\n",
      "Extracting frame..../train8_image_frames/frame50.png\n",
      "Extracting frame..../train8_image_frames/frame100.png\n",
      "Extracting frame..../train8_image_frames/frame150.png\n",
      "Extracting frame..../train8_image_frames/frame200.png\n",
      "Extracting frame..../train8_image_frames/frame250.png\n",
      "Extracting frame..../train8_image_frames/frame300.png\n",
      "Extracting frame..../train8_image_frames/frame350.png\n",
      "Extracting frame..../train8_image_frames/frame400.png\n",
      "Extracting frame..../train8_image_frames/frame450.png\n",
      "Extracting frame..../train8_image_frames/frame500.png\n",
      "Extracting frame..../train8_image_frames/frame550.png\n",
      "Extracting frame..../train8_image_frames/frame600.png\n",
      "Extracting frame..../train8_image_frames/frame650.png\n"
     ]
    }
   ],
   "source": [
    "vid = files(vidpath)\n",
    "saved_frame_nums, video_frames_dir = process(vid, frame_interval)"
   ]
  },
  {
   "cell_type": "markdown",
   "metadata": {},
   "source": [
    "### Optical Flow"
   ]
  },
  {
   "cell_type": "code",
   "execution_count": 8,
   "metadata": {},
   "outputs": [],
   "source": [
    "def detect_screengrab_boundingboxes(video_path):\n",
    "    ''' \n",
    "    Detects significant leftward motion in the input video. \n",
    "    Returns coordinates of bounding boxes of significant leftward motion\n",
    "    '''\n",
    "    vidname = vidname = str(video_path)\n",
    "    cap = cv2.VideoCapture(video_path)\n",
    "    \n",
    "    # Get total number of frames and calculate frame at which point to save\n",
    "    total_frames = int(cap.get(cv2.CAP_PROP_FRAME_COUNT))\n",
    "    save_frame = total_frames // 1.5  # save at ~75%\n",
    "\n",
    "    ret, first_frame = cap.read() # Get the first frame: if not readable ret returns False\n",
    "    if not ret:\n",
    "        print(\"Failed to read the video.\")\n",
    "        return\n",
    "\n",
    "    # Convert first frame to grayscale\n",
    "    prev_gray = cv2.cvtColor(first_frame, cv2.COLOR_BGR2GRAY)\n",
    "\n",
    "    # Initialize a mask for consistent leftward movement\n",
    "    consistent_motion_mask = None\n",
    "    consistency_threshold = 0.8  # Consistent movement threshold (percentage of frames)\n",
    "    num_frames = 0\n",
    "\n",
    "    saved_screengrab = False\n",
    "    screengrab_frame = None\n",
    "    bounding_boxes = []\n",
    "\n",
    "    while cap.isOpened(): # Iterate through each frame of the video\n",
    "        ret, frame = cap.read()\n",
    "        if not ret:\n",
    "            break\n",
    "        \n",
    "        gray = cv2.cvtColor(frame, cv2.COLOR_BGR2GRAY)\n",
    "\n",
    "        # Compute dense optical flow between current and previous frames using Farneback method\n",
    "        # \"flow\" is a 3d array dimensions (img height, img width, 2)\n",
    "        # Channel 1: Horizontal Movement. Channel 2: Vertical Movement\n",
    "        flow = cv2.calcOpticalFlowFarneback(prev_gray, gray, None, 0.5, 5, 15, 3, 5, 1.2, 0)\n",
    "        \n",
    "        # Calculate the mask of leftward movement (negative horizontal movement)\n",
    "        leftward_motion_mask = flow[..., 0] < 0\n",
    "        \n",
    "        # Initialize the consistent motion mask\n",
    "        # with the same shape as leftward_motion_mask to accumulate counts of leftward motion\n",
    "        if consistent_motion_mask is None:\n",
    "            consistent_motion_mask = np.zeros_like(leftward_motion_mask, dtype=np.float32)\n",
    "        \n",
    "        # Update the consistent leftward movement mask where leftward motion is true\n",
    "        consistent_motion_mask[leftward_motion_mask] += 1\n",
    "        num_frames += 1\n",
    "\n",
    "        # Calculate the ratio of consistent leftward movement\n",
    "        consistent_ratio = consistent_motion_mask / num_frames\n",
    "        consistent_leftward_regions = consistent_ratio > consistency_threshold\n",
    "\n",
    "        # Apply morphological closing to fill in the gaps\n",
    "        consistent_leftward_mask = consistent_leftward_regions.astype(np.uint8)\n",
    "        kernel = np.ones((5, 5), np.uint8) \n",
    "        consistent_leftward_mask = cv2.morphologyEx(consistent_leftward_mask, cv2.MORPH_CLOSE, kernel)\n",
    "\n",
    "        # Create an image for highlighting the image where there is consistent leftward motion\n",
    "        consistent_leftward_img = np.zeros_like(frame)\n",
    "        consistent_leftward_img[consistent_leftward_mask == 1] = [0, 255, 0]  # Green\n",
    "\n",
    "        # Use morphological closing (to fill small gaps) and closing (to remove noise) operations to clean leftward-motion mask\n",
    "        kernel = np.ones((5, 5), np.uint8)\n",
    "        cleaned_mask = cv2.morphologyEx(consistent_leftward_mask, cv2.MORPH_CLOSE, kernel)\n",
    "        cleaned_mask = cv2.morphologyEx(cleaned_mask, cv2.MORPH_OPEN, kernel)\n",
    "        \n",
    "        # Save screengrab at save_frame point and extract the bounding boxes\n",
    "        if num_frames == save_frame and not saved_screengrab:\n",
    "            # Convert original frame to grayscale\n",
    "            gray_frame = cv2.cvtColor(gray, cv2.COLOR_GRAY2BGR)\n",
    "\n",
    "            # Overlay green highlight on grayscale frame\n",
    "            overlayed_img = cv2.addWeighted(gray_frame, 0.7, consistent_leftward_img, 0.3, 0)\n",
    "            screengrab_frame = overlayed_img.copy()\n",
    "            saved_screengrab = True\n",
    "\n",
    "            contours, _ = cv2.findContours(cleaned_mask, cv2.RETR_EXTERNAL, cv2.CHAIN_APPROX_SIMPLE)\n",
    "            for cnt in contours:\n",
    "                x, y, w, h = cv2.boundingRect(cnt)\n",
    "                # Only add the bounding box if the width is at least 1.7x the height\n",
    "                if w >= 1.7 * h:\n",
    "                    bounding_boxes.append((x, y, x+w, y+h))\n",
    "                    # Draw bounding box on the screengrab\n",
    "                    cv2.rectangle(screengrab_frame, (x, y), (x+w, y+h), (0, 255, 0), 2)  # Green bounding box\n",
    "\n",
    "            cv2.imwrite(f'./{vidname}_75percent_80threshold.png', screengrab_frame)\n",
    "    \n",
    "            return bounding_boxes\n",
    "    \n",
    "        prev_gray = gray.copy()\n",
    "    \n",
    "    cap.release()\n",
    "    cv2.destroyAllWindows()\n",
    "\n",
    "    return \"fail\""
   ]
  },
  {
   "cell_type": "code",
   "execution_count": 9,
   "metadata": {},
   "outputs": [
    {
     "name": "stdout",
     "output_type": "stream",
     "text": [
      "../data/train8.mp4 time taken: 171.90824794769287\n"
     ]
    }
   ],
   "source": [
    "start = time.time()\n",
    "opflow_box_coordinates = detect_screengrab_boundingboxes(vidpath)\n",
    "print(f\"{vidpath} time taken: {time.time()-start}\")"
   ]
  },
  {
   "cell_type": "markdown",
   "metadata": {},
   "source": [
    "### EAST for text detection"
   ]
  },
  {
   "cell_type": "code",
   "execution_count": 10,
   "metadata": {},
   "outputs": [],
   "source": [
    "def east_detect(image, output_path, east_confidence):\n",
    "    '''\n",
    "    uses EAST detection to get x,y coordinates of all bounding boxes of input image \n",
    "    \n",
    "    param images: paths to the image\n",
    "    param output_path: path where to save copy of original image with bounding boxes drawn on top\n",
    "    \n",
    "    returns list of tuples: each tuple contains (x_min, y_min, x_max, y_max) of each detected bounding box\n",
    "\n",
    "    code from: https://medium.com/technovators/scene-text-detection-in-python-with-east-and-craft-cbe03dda35d5\n",
    "    '''\n",
    "    \n",
    "    \n",
    "    layerNames = [\n",
    "    \t\"feature_fusion/Conv_7/Sigmoid\",\n",
    "    \t\"feature_fusion/concat_3\"]\n",
    "\n",
    "    orig = image.copy()\n",
    "    \n",
    "    if len(image.shape) == 2:\n",
    "        image = cv2.cvtColor(image, cv2.COLOR_GRAY2RGB)\n",
    "    \n",
    "    (H, W) = image.shape[:2]\n",
    "    \n",
    "    # set the new width and height and then determine the ratio in change\n",
    "    # for both the width and height: Should be multiple of 32\n",
    "    # (newW, newH) = (320, 320)\n",
    "    (newW, newH) = (1024, 1024)\n",
    "    \n",
    "    rW = W / float(newW)\n",
    "    rH = H / float(newH)\n",
    "    \n",
    "    # resize the image and grab the new image dimensions\n",
    "    image = cv2.resize(image, (newW, newH))\n",
    "    \n",
    "    (H, W) = image.shape[:2]\n",
    "    \n",
    "    net = cv2.dnn.readNet(\"frozen_east_text_detection.pb\")\n",
    "    \n",
    "    blob = cv2.dnn.blobFromImage(image, 1.0, (W, H),\n",
    "    \t(123.68, 116.78, 103.94), swapRB=True, crop=False)\n",
    "    \n",
    "    net.setInput(blob)\n",
    "    \n",
    "    (scores, geometry) = net.forward(layerNames)\n",
    "    \n",
    "    (numRows, numCols) = scores.shape[2:4]\n",
    "    rects = []\n",
    "    confidences = []\n",
    "    # loop over the number of rows\n",
    "    for y in range(0, numRows):\n",
    "        # extract the scores (probabilities), followed by the geometrical\n",
    "        # data used to derive potential bounding box coordinates that\n",
    "        # surround text\n",
    "        scoresData = scores[0, 0, y]\n",
    "        xData0 = geometry[0, 0, y]\n",
    "        xData1 = geometry[0, 1, y]\n",
    "        xData2 = geometry[0, 2, y]\n",
    "        xData3 = geometry[0, 3, y]\n",
    "        anglesData = geometry[0, 4, y]\n",
    "    \n",
    "        for x in range(0, numCols):\n",
    "    \t\t# if our score does not have sufficient probability, ignore it\n",
    "            # Set minimum confidence as required\n",
    "            if scoresData[x] < east_confidence:\n",
    "                continue\n",
    "    \t\t# compute the offset factor as our resulting feature maps will\n",
    "            #  x smaller than the input image\n",
    "            (offsetX, offsetY) = (x * 4.0, y * 4.0)\n",
    "            # extract the rotation angle for the prediction and then\n",
    "            # compute the sin and cosine\n",
    "            angle = anglesData[x]\n",
    "            cos = np.cos(angle)\n",
    "            sin = np.sin(angle)\n",
    "            # use the geometry volume to derive the width and height of\n",
    "            # the bounding box\n",
    "            h = xData0[x] + xData2[x]\n",
    "            w = xData1[x] + xData3[x]\n",
    "            # compute both the starting and ending (x, y)-coordinates for\n",
    "            # the text prediction bounding box\n",
    "            endX = int(offsetX + (cos * xData1[x]) + (sin * xData2[x]))\n",
    "            endY = int(offsetY - (sin * xData1[x]) + (cos * xData2[x]))\n",
    "            startX = int(endX - w)\n",
    "            startY = int(endY - h)\n",
    "            # add the bounding box coordinates and probability score to\n",
    "            # our respective lists\n",
    "            rects.append((startX, startY, endX, endY))\n",
    "            confidences.append(scoresData[x])\n",
    "                        \n",
    "    boxes = non_max_suppression(np.array(rects), probs=confidences)\n",
    "    # loop over the bounding boxes\n",
    "    coordinates = []\n",
    "\n",
    "    if len(boxes) == 0: # if no text/bounding boxes detected\n",
    "        return coordinates\n",
    "        \n",
    "    if len(boxes) >= 1:\n",
    "        for (startX, startY, endX, endY) in boxes:\n",
    "            # scale the bounding box coordinates based on the respective\n",
    "            # ratios\n",
    "            startX = int(startX * rW)\n",
    "            startY = int(startY * rH)\n",
    "            endX = int(endX * rW)\n",
    "            endY = int(endY * rH)\n",
    "            # draw the bounding box on the image\n",
    "            # origin is upper left corner\n",
    "            # startX,startY ------\n",
    "            # |                 |\n",
    "            # |                 |\n",
    "            # |                 |\n",
    "            # ----------endX,endY\n",
    "            startX = max(startX, 0) #TODO: ome starting points of east text bounding boxes are negative numbers. I dont know why\n",
    "            out_image = cv2.rectangle(orig, (startX, startY), (endX, endY), (0, 255, 0), 2)\n",
    "            # out_image = cv2.rectangle(out_image, (146, 888), (1920, 1002), (0, 255, 0), 2)\n",
    "            coordinates += [[startX, startY, endX, endY]]\n",
    "        \n",
    "        cv2.imwrite(f\"{output_path}\", out_image)\n",
    "        return coordinates\n"
   ]
  },
  {
   "cell_type": "code",
   "execution_count": 11,
   "metadata": {},
   "outputs": [],
   "source": [
    "coordinates_list= []\n",
    "\n",
    "for frame_number in saved_frame_nums:\n",
    "    frame_path = video_frames_dir + f\"/frame{frame_number}.png\"  # path to individual frame being processed\n",
    "\n",
    "    base_name = os.path.basename(frame_path)\n",
    "    frame_name, _ = os.path.splitext(base_name)  # get just the individual frame name without the extension\n",
    "\n",
    "    \n",
    "    if not os.path.isdir(f\"{video_frames_dir}/output\"):\n",
    "        os.makedirs(f\"{video_frames_dir}/output\")  # makes output directory for the frame being processed\n",
    "    \n",
    "    image = cv2.imread(frame_path)\n",
    "\n",
    "    coordinates = east_detect(image, f\"{video_frames_dir}/output/out_{frame_name}_EAST.png\", east_confidence)  # get coordinates of bounding boxes and save image to new output dir for that frame\n",
    "        \n",
    "    coordinates_list += [coordinates]"
   ]
  },
  {
   "cell_type": "markdown",
   "metadata": {},
   "source": [
    "### Calculate the overlapping area of optic flow rectangles and east rectangles.\n",
    "\n",
    "randomly get {N} frames to do this:\n",
    "* For each opflow rectangle, get the overlapping area sum \n",
    "* The rectangle with the largest overlapping area -> rolling text region \\\n",
    "-> some sanity check for rectangles?"
   ]
  },
  {
   "cell_type": "code",
   "execution_count": 12,
   "metadata": {},
   "outputs": [
    {
     "data": {
      "text/plain": [
       "[(553, 643, 1259, 717)]"
      ]
     },
     "execution_count": 12,
     "metadata": {},
     "output_type": "execute_result"
    }
   ],
   "source": [
    "opflow_box_coordinates"
   ]
  },
  {
   "cell_type": "code",
   "execution_count": 13,
   "metadata": {},
   "outputs": [
    {
     "data": {
      "text/plain": [
       "[[[699, 463, 870, 487],\n",
       "  [1170, 652, 1222, 668],\n",
       "  [847, 645, 930, 662],\n",
       "  [693, 643, 765, 661],\n",
       "  [626, 643, 686, 660],\n",
       "  [571, 642, 618, 661],\n",
       "  [703, 415, 766, 439],\n",
       "  [727, 514, 819, 533],\n",
       "  [811, 548, 868, 564],\n",
       "  [697, 564, 811, 585],\n",
       "  [916, 647, 1003, 666],\n",
       "  [821, 232, 1053, 279],\n",
       "  [875, 547, 973, 561],\n",
       "  [984, 359, 1046, 373],\n",
       "  [780, 305, 883, 325],\n",
       "  [705, 301, 778, 320],\n",
       "  [575, 361, 645, 389],\n",
       "  [558, 215, 781, 267],\n",
       "  [866, 403, 952, 419],\n",
       "  [815, 562, 868, 585],\n",
       "  [708, 365, 811, 390],\n",
       "  [643, 369, 697, 389],\n",
       "  [1001, 503, 1098, 516],\n",
       "  [1209, 651, 1252, 671],\n",
       "  [982, 552, 1040, 565],\n",
       "  [896, 357, 982, 372],\n",
       "  [1063, 652, 1153, 669],\n",
       "  [566, 508, 639, 535],\n",
       "  [973, 407, 1050, 420],\n",
       "  [1021, 649, 1059, 667],\n",
       "  [566, 556, 639, 583],\n",
       "  [823, 370, 875, 393],\n",
       "  [817, 401, 871, 417],\n",
       "  [568, 410, 646, 438],\n",
       "  [870, 465, 916, 488],\n",
       "  [708, 496, 791, 511],\n",
       "  [778, 413, 828, 440],\n",
       "  [808, 353, 888, 371],\n",
       "  [789, 646, 840, 662],\n",
       "  [697, 445, 793, 463],\n",
       "  [697, 543, 787, 560],\n",
       "  [973, 453, 1046, 467],\n",
       "  [1027, 552, 1074, 566],\n",
       "  [903, 500, 976, 515],\n",
       "  [566, 458, 643, 486],\n",
       "  [903, 452, 976, 468],\n",
       "  [813, 498, 901, 514],\n",
       "  [1040, 360, 1095, 373],\n",
       "  [774, 447, 856, 467]],\n",
       " [[560, 652, 605, 669],\n",
       "  [706, 471, 875, 496],\n",
       "  [721, 523, 825, 543],\n",
       "  [615, 651, 678, 669],\n",
       "  [770, 650, 922, 669],\n",
       "  [1186, 659, 1241, 678],\n",
       "  [988, 465, 1057, 477],\n",
       "  [714, 573, 823, 594],\n",
       "  [795, 314, 894, 333],\n",
       "  [720, 381, 830, 401],\n",
       "  [583, 473, 654, 495],\n",
       "  [828, 244, 1061, 292],\n",
       "  [886, 556, 976, 571],\n",
       "  [718, 311, 791, 331],\n",
       "  [1085, 659, 1179, 676],\n",
       "  [588, 376, 658, 399],\n",
       "  [716, 427, 783, 449],\n",
       "  [652, 377, 708, 397],\n",
       "  [993, 369, 1065, 382],\n",
       "  [885, 413, 961, 429],\n",
       "  [993, 657, 1072, 675],\n",
       "  [570, 223, 804, 276],\n",
       "  [585, 422, 658, 446],\n",
       "  [581, 518, 654, 544],\n",
       "  [986, 561, 1055, 572],\n",
       "  [1018, 511, 1106, 526],\n",
       "  [903, 367, 995, 381],\n",
       "  [828, 412, 877, 427],\n",
       "  [826, 556, 883, 573],\n",
       "  [577, 567, 656, 593],\n",
       "  [864, 460, 945, 477],\n",
       "  [832, 571, 881, 595],\n",
       "  [931, 656, 969, 675],\n",
       "  [995, 414, 1061, 429],\n",
       "  [875, 473, 928, 499],\n",
       "  [789, 426, 834, 449],\n",
       "  [840, 379, 886, 401],\n",
       "  [721, 363, 780, 379],\n",
       "  [1051, 369, 1100, 382],\n",
       "  [710, 653, 755, 670],\n",
       "  [575, 548, 622, 570],\n",
       "  [712, 409, 787, 427],\n",
       "  [776, 364, 868, 380],\n",
       "  [708, 553, 800, 569],\n",
       "  [727, 507, 808, 522],\n",
       "  [667, 652, 710, 669],\n",
       "  [706, 458, 821, 475],\n",
       "  [815, 509, 915, 524],\n",
       "  [579, 358, 628, 376],\n",
       "  [913, 509, 980, 525],\n",
       "  [586, 454, 631, 472]],\n",
       " [[1005, 669, 1089, 686],\n",
       "  [714, 322, 787, 342],\n",
       "  [706, 585, 830, 606],\n",
       "  [712, 438, 778, 459],\n",
       "  [982, 572, 1046, 585],\n",
       "  [716, 486, 868, 509],\n",
       "  [1096, 669, 1151, 687],\n",
       "  [995, 380, 1065, 393],\n",
       "  [796, 326, 888, 343],\n",
       "  [1012, 524, 1108, 537],\n",
       "  [583, 386, 654, 409],\n",
       "  [705, 664, 834, 682],\n",
       "  [1201, 670, 1269, 690],\n",
       "  [825, 252, 1068, 299],\n",
       "  [718, 388, 832, 413],\n",
       "  [738, 531, 836, 554],\n",
       "  [581, 483, 656, 506],\n",
       "  [894, 570, 978, 584],\n",
       "  [826, 583, 886, 605],\n",
       "  [991, 427, 1057, 440],\n",
       "  [568, 233, 798, 287],\n",
       "  [896, 378, 988, 392],\n",
       "  [577, 532, 652, 555],\n",
       "  [843, 667, 879, 684],\n",
       "  [984, 474, 1051, 487],\n",
       "  [785, 439, 840, 460],\n",
       "  [575, 580, 648, 604],\n",
       "  [564, 664, 611, 680],\n",
       "  [706, 565, 789, 580],\n",
       "  [1149, 671, 1194, 687],\n",
       "  [907, 666, 976, 683],\n",
       "  [886, 473, 986, 488],\n",
       "  [652, 388, 708, 409],\n",
       "  [849, 521, 911, 534],\n",
       "  [579, 433, 661, 457],\n",
       "  [871, 486, 930, 509],\n",
       "  [613, 663, 665, 681],\n",
       "  [716, 374, 785, 391],\n",
       "  [830, 568, 881, 585],\n",
       "  [708, 468, 810, 485],\n",
       "  [883, 425, 963, 439],\n",
       "  [1042, 572, 1083, 585],\n",
       "  [911, 521, 976, 535],\n",
       "  [830, 375, 900, 391],\n",
       "  [770, 376, 845, 393],\n",
       "  [819, 423, 881, 438],\n",
       "  [841, 389, 886, 413],\n",
       "  [710, 516, 796, 531],\n",
       "  [783, 471, 864, 488],\n",
       "  [583, 369, 624, 386],\n",
       "  [716, 419, 768, 436],\n",
       "  [570, 561, 635, 580],\n",
       "  [883, 126, 1361, 203],\n",
       "  [1057, 380, 1098, 394]],\n",
       " [[1104, 678, 1263, 696],\n",
       "  [710, 490, 871, 512],\n",
       "  [1057, 678, 1106, 693],\n",
       "  [712, 441, 774, 464],\n",
       "  [1001, 673, 1051, 692],\n",
       "  [596, 667, 746, 687],\n",
       "  [881, 574, 986, 588],\n",
       "  [915, 672, 997, 690],\n",
       "  [740, 540, 821, 558],\n",
       "  [883, 432, 961, 445],\n",
       "  [789, 331, 898, 350],\n",
       "  [712, 328, 791, 348],\n",
       "  [716, 590, 821, 610],\n",
       "  [793, 670, 888, 687],\n",
       "  [1012, 528, 1104, 542],\n",
       "  [712, 380, 781, 395],\n",
       "  [585, 391, 654, 414],\n",
       "  [982, 579, 1040, 591],\n",
       "  [746, 669, 791, 686],\n",
       "  [825, 257, 1068, 305],\n",
       "  [570, 584, 650, 608],\n",
       "  [984, 480, 1051, 494],\n",
       "  [579, 438, 660, 463],\n",
       "  [815, 574, 875, 589],\n",
       "  [712, 393, 828, 415],\n",
       "  [564, 239, 795, 292],\n",
       "  [991, 386, 1066, 399],\n",
       "  [575, 485, 654, 510],\n",
       "  [571, 534, 652, 558],\n",
       "  [823, 429, 873, 441],\n",
       "  [652, 394, 706, 414],\n",
       "  [823, 587, 875, 609],\n",
       "  [864, 477, 939, 493],\n",
       "  [901, 384, 988, 399],\n",
       "  [840, 395, 883, 418],\n",
       "  [870, 491, 924, 515],\n",
       "  [787, 441, 830, 465],\n",
       "  [988, 433, 1053, 445],\n",
       "  [708, 569, 791, 584],\n",
       "  [766, 381, 851, 397],\n",
       "  [708, 473, 808, 489],\n",
       "  [1038, 580, 1087, 591],\n",
       "  [789, 524, 890, 538],\n",
       "  [909, 526, 986, 542],\n",
       "  [708, 521, 813, 536],\n",
       "  [705, 425, 768, 441],\n",
       "  [571, 467, 628, 489],\n",
       "  [778, 477, 858, 493],\n",
       "  [819, 137, 1361, 207],\n",
       "  [703, 541, 744, 560]],\n",
       " [[802, 669, 903, 688],\n",
       "  [714, 490, 866, 512],\n",
       "  [710, 440, 780, 463],\n",
       "  [1083, 678, 1179, 696],\n",
       "  [881, 574, 976, 587],\n",
       "  [562, 664, 645, 683],\n",
       "  [714, 325, 789, 344],\n",
       "  [588, 389, 656, 411],\n",
       "  [984, 577, 1042, 589],\n",
       "  [1018, 673, 1096, 691],\n",
       "  [570, 583, 648, 606],\n",
       "  [911, 672, 965, 690],\n",
       "  [1177, 679, 1222, 697],\n",
       "  [826, 255, 1068, 303],\n",
       "  [796, 329, 896, 348],\n",
       "  [705, 587, 832, 609],\n",
       "  [967, 673, 1010, 690],\n",
       "  [995, 383, 1066, 398],\n",
       "  [575, 532, 650, 558],\n",
       "  [718, 393, 825, 414],\n",
       "  [991, 433, 1055, 445],\n",
       "  [740, 536, 832, 557],\n",
       "  [571, 236, 798, 288],\n",
       "  [883, 429, 969, 441],\n",
       "  [1014, 527, 1108, 542],\n",
       "  [1226, 678, 1267, 699],\n",
       "  [577, 483, 656, 509],\n",
       "  [705, 666, 781, 683],\n",
       "  [826, 379, 896, 395],\n",
       "  [825, 587, 879, 610],\n",
       "  [875, 490, 924, 513],\n",
       "  [825, 429, 877, 441],\n",
       "  [785, 441, 836, 464],\n",
       "  [988, 478, 1055, 492],\n",
       "  [581, 435, 660, 459],\n",
       "  [840, 394, 885, 415],\n",
       "  [650, 390, 712, 411],\n",
       "  [660, 666, 701, 684],\n",
       "  [793, 523, 909, 540],\n",
       "  [774, 473, 858, 492],\n",
       "  [900, 383, 988, 397],\n",
       "  [712, 377, 785, 393],\n",
       "  [1044, 579, 1085, 592],\n",
       "  [710, 519, 798, 535],\n",
       "  [825, 571, 879, 586],\n",
       "  [909, 477, 980, 492],\n",
       "  [710, 569, 791, 585],\n",
       "  [708, 471, 804, 487],\n",
       "  [862, 475, 931, 491],\n",
       "  [772, 379, 841, 393],\n",
       "  [583, 372, 626, 387],\n",
       "  [712, 423, 772, 439],\n",
       "  [907, 525, 984, 541],\n",
       "  [570, 563, 630, 583],\n",
       "  [1055, 386, 1100, 400]],\n",
       " [[708, 660, 806, 678],\n",
       "  [703, 481, 870, 504],\n",
       "  [1171, 669, 1224, 688],\n",
       "  [1125, 669, 1168, 686],\n",
       "  [701, 433, 770, 455],\n",
       "  [573, 381, 645, 405],\n",
       "  [699, 317, 780, 337],\n",
       "  [924, 664, 993, 682],\n",
       "  [973, 474, 1046, 487],\n",
       "  [699, 581, 815, 602],\n",
       "  [811, 663, 856, 681],\n",
       "  [1080, 669, 1126, 686],\n",
       "  [988, 377, 1050, 390],\n",
       "  [870, 422, 950, 437],\n",
       "  [877, 566, 956, 579],\n",
       "  [560, 575, 639, 600],\n",
       "  [821, 251, 1065, 294],\n",
       "  [725, 531, 813, 551],\n",
       "  [787, 319, 890, 339],\n",
       "  [976, 570, 1038, 583],\n",
       "  [562, 229, 785, 280],\n",
       "  [868, 665, 909, 682],\n",
       "  [708, 384, 826, 407],\n",
       "  [813, 565, 868, 580],\n",
       "  [592, 658, 690, 677],\n",
       "  [819, 579, 871, 602],\n",
       "  [699, 465, 783, 479],\n",
       "  [993, 666, 1081, 683],\n",
       "  [547, 657, 590, 676],\n",
       "  [1005, 523, 1100, 537],\n",
       "  [641, 383, 701, 402],\n",
       "  [710, 372, 780, 387],\n",
       "  [695, 561, 783, 576],\n",
       "  [811, 418, 871, 435],\n",
       "  [980, 425, 1048, 437],\n",
       "  [896, 375, 980, 390],\n",
       "  [763, 373, 845, 388],\n",
       "  [823, 388, 881, 413],\n",
       "  [866, 484, 915, 507],\n",
       "  [1031, 572, 1076, 585],\n",
       "  [909, 471, 975, 485],\n",
       "  [562, 526, 643, 550],\n",
       "  [697, 511, 798, 527],\n",
       "  [785, 514, 896, 530],\n",
       "  [789, 468, 855, 485],\n",
       "  [780, 429, 825, 455],\n",
       "  [862, 470, 922, 485],\n",
       "  [1042, 378, 1091, 391],\n",
       "  [954, 519, 1005, 535],\n",
       "  [571, 430, 648, 454],\n",
       "  [1153, 543, 1188, 563],\n",
       "  [903, 518, 956, 533],\n",
       "  [570, 476, 643, 504]],\n",
       " [[691, 489, 864, 511],\n",
       "  [819, 670, 898, 687],\n",
       "  [1130, 677, 1230, 695],\n",
       "  [712, 669, 765, 686],\n",
       "  [765, 669, 815, 686],\n",
       "  [1074, 677, 1126, 695],\n",
       "  [566, 390, 633, 413],\n",
       "  [693, 440, 757, 465],\n",
       "  [712, 540, 810, 560],\n",
       "  [607, 668, 703, 686],\n",
       "  [697, 326, 765, 344],\n",
       "  [701, 391, 811, 414],\n",
       "  [693, 589, 806, 609],\n",
       "  [888, 673, 980, 691],\n",
       "  [810, 259, 1051, 306],\n",
       "  [860, 430, 941, 445],\n",
       "  [772, 331, 873, 349],\n",
       "  [965, 579, 1027, 591],\n",
       "  [997, 528, 1085, 542],\n",
       "  [978, 386, 1033, 398],\n",
       "  [806, 573, 858, 589],\n",
       "  [870, 574, 965, 589],\n",
       "  [560, 438, 635, 463],\n",
       "  [553, 584, 633, 608],\n",
       "  [553, 240, 772, 292],\n",
       "  [811, 428, 858, 442],\n",
       "  [1020, 677, 1063, 695],\n",
       "  [817, 394, 870, 419],\n",
       "  [558, 535, 631, 561],\n",
       "  [691, 472, 785, 488],\n",
       "  [562, 485, 639, 511],\n",
       "  [706, 378, 765, 394],\n",
       "  [631, 392, 686, 411],\n",
       "  [543, 666, 598, 685],\n",
       "  [963, 433, 1036, 445],\n",
       "  [806, 588, 864, 612],\n",
       "  [965, 480, 1035, 493],\n",
       "  [858, 490, 907, 514],\n",
       "  [845, 476, 905, 491],\n",
       "  [1020, 580, 1065, 592],\n",
       "  [770, 523, 879, 538],\n",
       "  [898, 477, 971, 492],\n",
       "  [766, 438, 819, 465],\n",
       "  [755, 379, 838, 395],\n",
       "  [750, 475, 853, 492],\n",
       "  [976, 676, 1021, 693],\n",
       "  [686, 571, 778, 586],\n",
       "  [1040, 387, 1081, 399],\n",
       "  [691, 521, 800, 535],\n",
       "  [883, 381, 956, 396],\n",
       "  [555, 468, 609, 489],\n",
       "  [894, 525, 975, 541],\n",
       "  [691, 425, 750, 442],\n",
       "  [551, 565, 601, 585]],\n",
       " [[545, 668, 613, 686],\n",
       "  [620, 668, 675, 686],\n",
       "  [729, 669, 825, 686],\n",
       "  [673, 669, 725, 686],\n",
       "  [699, 397, 815, 419],\n",
       "  [718, 540, 810, 561],\n",
       "  [693, 591, 815, 611],\n",
       "  [697, 444, 759, 466],\n",
       "  [1140, 679, 1241, 697],\n",
       "  [1040, 678, 1132, 696],\n",
       "  [695, 491, 862, 514],\n",
       "  [776, 333, 877, 351],\n",
       "  [997, 532, 1089, 546],\n",
       "  [965, 580, 1031, 593],\n",
       "  [817, 260, 1050, 309],\n",
       "  [804, 431, 860, 445],\n",
       "  [975, 388, 1063, 402],\n",
       "  [868, 432, 946, 445],\n",
       "  [982, 675, 1036, 693],\n",
       "  [556, 586, 635, 610],\n",
       "  [808, 589, 858, 613],\n",
       "  [555, 241, 776, 293],\n",
       "  [967, 481, 1040, 495],\n",
       "  [701, 330, 772, 348],\n",
       "  [564, 490, 639, 513],\n",
       "  [566, 392, 641, 415],\n",
       "  [860, 480, 969, 495],\n",
       "  [898, 528, 952, 542],\n",
       "  [870, 576, 965, 591],\n",
       "  [975, 436, 1044, 449],\n",
       "  [562, 440, 641, 464],\n",
       "  [1025, 581, 1072, 593],\n",
       "  [935, 675, 973, 692],\n",
       "  [560, 534, 637, 562],\n",
       "  [821, 396, 875, 420],\n",
       "  [633, 394, 691, 414],\n",
       "  [885, 384, 978, 400],\n",
       "  [770, 442, 825, 465],\n",
       "  [806, 574, 860, 591],\n",
       "  [866, 495, 913, 515],\n",
       "  [885, 673, 931, 692],\n",
       "  [693, 426, 751, 444],\n",
       "  [772, 526, 877, 542],\n",
       "  [695, 474, 770, 491],\n",
       "  [954, 529, 999, 543],\n",
       "  [691, 570, 783, 586],\n",
       "  [693, 381, 768, 398],\n",
       "  [766, 477, 856, 493],\n",
       "  [693, 521, 789, 537],\n",
       "  [817, 383, 886, 400],\n",
       "  [553, 565, 607, 588]],\n",
       " [[695, 438, 761, 460],\n",
       "  [1050, 668, 1168, 687],\n",
       "  [946, 669, 1040, 687],\n",
       "  [699, 323, 766, 341],\n",
       "  [564, 389, 637, 410],\n",
       "  [695, 486, 856, 510],\n",
       "  [886, 380, 975, 394],\n",
       "  [1164, 672, 1224, 691],\n",
       "  [691, 584, 808, 606],\n",
       "  [892, 667, 945, 685],\n",
       "  [963, 575, 1035, 587],\n",
       "  [778, 328, 875, 348],\n",
       "  [703, 388, 813, 413],\n",
       "  [868, 571, 965, 585],\n",
       "  [639, 663, 712, 681],\n",
       "  [577, 665, 626, 682],\n",
       "  [815, 253, 1051, 301],\n",
       "  [725, 534, 817, 556],\n",
       "  [708, 665, 796, 683],\n",
       "  [841, 668, 881, 685],\n",
       "  [553, 581, 633, 606],\n",
       "  [991, 524, 1089, 537],\n",
       "  [541, 664, 581, 683],\n",
       "  [976, 380, 1050, 394],\n",
       "  [562, 483, 641, 508],\n",
       "  [547, 237, 780, 291],\n",
       "  [768, 438, 825, 460],\n",
       "  [969, 476, 1036, 490],\n",
       "  [562, 533, 631, 557],\n",
       "  [890, 523, 997, 538],\n",
       "  [866, 425, 946, 440],\n",
       "  [630, 388, 690, 409],\n",
       "  [900, 473, 971, 489],\n",
       "  [969, 428, 1044, 441],\n",
       "  [821, 389, 873, 415],\n",
       "  [796, 668, 843, 685],\n",
       "  [862, 487, 913, 511],\n",
       "  [759, 378, 841, 393],\n",
       "  [804, 425, 862, 440],\n",
       "  [768, 519, 877, 535],\n",
       "  [690, 468, 787, 485],\n",
       "  [810, 581, 858, 607],\n",
       "  [688, 565, 772, 582],\n",
       "  [847, 473, 907, 488],\n",
       "  [566, 434, 641, 458],\n",
       "  [806, 568, 866, 586],\n",
       "  [703, 375, 768, 392],\n",
       "  [710, 518, 793, 534],\n",
       "  [693, 421, 755, 438],\n",
       "  [1042, 380, 1083, 396],\n",
       "  [849, 129, 1344, 204]],\n",
       " [[1065, 670, 1121, 687],\n",
       "  [971, 381, 1029, 393],\n",
       "  [536, 661, 701, 679],\n",
       "  [690, 321, 759, 340],\n",
       "  [950, 668, 1068, 686],\n",
       "  [695, 386, 800, 410],\n",
       "  [682, 437, 750, 460],\n",
       "  [680, 583, 808, 605],\n",
       "  [885, 522, 980, 537],\n",
       "  [688, 485, 847, 509],\n",
       "  [791, 664, 843, 683],\n",
       "  [768, 323, 866, 343],\n",
       "  [991, 523, 1083, 537],\n",
       "  [808, 254, 1046, 301],\n",
       "  [556, 387, 628, 410],\n",
       "  [896, 474, 960, 488],\n",
       "  [624, 388, 682, 408],\n",
       "  [714, 534, 806, 556],\n",
       "  [858, 570, 950, 584],\n",
       "  [1128, 670, 1235, 689],\n",
       "  [873, 379, 965, 393],\n",
       "  [956, 573, 1023, 586],\n",
       "  [744, 664, 783, 683],\n",
       "  [845, 486, 905, 509],\n",
       "  [545, 234, 766, 287],\n",
       "  [967, 426, 1035, 440],\n",
       "  [551, 483, 630, 508],\n",
       "  [851, 664, 943, 682],\n",
       "  [549, 577, 624, 604],\n",
       "  [691, 665, 735, 682],\n",
       "  [763, 436, 815, 459],\n",
       "  [811, 580, 858, 605],\n",
       "  [838, 472, 898, 488],\n",
       "  [802, 374, 871, 392],\n",
       "  [678, 565, 755, 580],\n",
       "  [1038, 380, 1078, 394],\n",
       "  [768, 519, 879, 535],\n",
       "  [856, 425, 939, 440],\n",
       "  [800, 423, 855, 438],\n",
       "  [960, 474, 1031, 488],\n",
       "  [813, 388, 860, 415],\n",
       "  [746, 471, 843, 489],\n",
       "  [1016, 573, 1063, 587],\n",
       "  [684, 469, 776, 485],\n",
       "  [684, 514, 791, 531],\n",
       "  [553, 532, 626, 555],\n",
       "  [558, 433, 631, 458],\n",
       "  [541, 560, 607, 582]],\n",
       " [[703, 533, 804, 554],\n",
       "  [540, 661, 611, 679],\n",
       "  [690, 583, 800, 604],\n",
       "  [701, 388, 798, 409],\n",
       "  [1038, 668, 1175, 687],\n",
       "  [776, 321, 871, 341],\n",
       "  [693, 434, 755, 458],\n",
       "  [757, 664, 855, 683],\n",
       "  [697, 483, 868, 505],\n",
       "  [1175, 670, 1222, 687],\n",
       "  [560, 480, 631, 506],\n",
       "  [875, 664, 975, 683],\n",
       "  [961, 473, 1038, 486],\n",
       "  [701, 663, 751, 681],\n",
       "  [804, 253, 1042, 301],\n",
       "  [691, 321, 765, 339],\n",
       "  [961, 570, 1027, 583],\n",
       "  [810, 582, 856, 604],\n",
       "  [562, 383, 633, 409],\n",
       "  [862, 421, 939, 436],\n",
       "  [975, 377, 1033, 390],\n",
       "  [549, 233, 772, 286],\n",
       "  [883, 375, 971, 390],\n",
       "  [858, 472, 963, 486],\n",
       "  [980, 666, 1036, 684],\n",
       "  [605, 662, 646, 681],\n",
       "  [551, 577, 630, 603],\n",
       "  [656, 663, 693, 682],\n",
       "  [798, 420, 858, 437],\n",
       "  [558, 531, 630, 554],\n",
       "  [628, 386, 682, 406],\n",
       "  [763, 435, 813, 456],\n",
       "  [868, 568, 956, 581],\n",
       "  [995, 521, 1085, 534],\n",
       "  [693, 468, 783, 484],\n",
       "  [562, 431, 639, 458],\n",
       "  [808, 566, 858, 582],\n",
       "  [1016, 572, 1065, 585],\n",
       "  [815, 386, 870, 413],\n",
       "  [684, 564, 763, 580],\n",
       "  [853, 485, 913, 508],\n",
       "  [971, 423, 1040, 437],\n",
       "  [1016, 377, 1076, 391],\n",
       "  [793, 373, 881, 391],\n",
       "  [1213, 673, 1252, 692],\n",
       "  [703, 372, 761, 389],\n",
       "  [770, 518, 871, 534],\n",
       "  [894, 521, 971, 534],\n",
       "  [703, 516, 789, 531],\n",
       "  [547, 561, 609, 582],\n",
       "  [555, 365, 611, 386]],\n",
       " [[690, 567, 804, 587],\n",
       "  [701, 516, 813, 536],\n",
       "  [699, 373, 811, 394],\n",
       "  [1183, 652, 1241, 670],\n",
       "  [691, 465, 862, 487],\n",
       "  [613, 644, 667, 663],\n",
       "  [1132, 652, 1177, 670],\n",
       "  [697, 416, 757, 441],\n",
       "  [969, 553, 1029, 566],\n",
       "  [665, 645, 763, 666],\n",
       "  [774, 306, 877, 324],\n",
       "  [558, 643, 605, 663],\n",
       "  [976, 358, 1040, 373],\n",
       "  [969, 456, 1038, 469],\n",
       "  [858, 405, 943, 419],\n",
       "  [890, 647, 945, 666],\n",
       "  [626, 368, 684, 389],\n",
       "  [776, 646, 868, 666],\n",
       "  [948, 650, 1081, 669],\n",
       "  [697, 302, 770, 321],\n",
       "  [808, 233, 1050, 282],\n",
       "  [1083, 651, 1130, 669],\n",
       "  [545, 218, 774, 271],\n",
       "  [997, 505, 1093, 517],\n",
       "  [560, 364, 637, 393],\n",
       "  [804, 405, 858, 420],\n",
       "  [558, 466, 631, 489],\n",
       "  [883, 357, 973, 373],\n",
       "  [553, 562, 628, 586],\n",
       "  [808, 565, 860, 587],\n",
       "  [868, 549, 963, 563],\n",
       "  [690, 548, 780, 563],\n",
       "  [562, 414, 639, 440],\n",
       "  [813, 371, 870, 396],\n",
       "  [555, 512, 631, 538],\n",
       "  [855, 468, 907, 491],\n",
       "  [699, 354, 765, 371],\n",
       "  [877, 454, 971, 469],\n",
       "  [1018, 554, 1068, 567],\n",
       "  [804, 549, 864, 564],\n",
       "  [691, 496, 783, 511],\n",
       "  [971, 408, 1044, 420],\n",
       "  [766, 415, 817, 440],\n",
       "  [896, 504, 982, 518],\n",
       "  [1042, 360, 1083, 374],\n",
       "  [755, 356, 841, 371],\n",
       "  [695, 450, 789, 467],\n",
       "  [549, 544, 613, 564],\n",
       "  [798, 500, 892, 516],\n",
       "  [690, 401, 748, 420]],\n",
       " [[690, 566, 804, 586],\n",
       "  [699, 516, 810, 536],\n",
       "  [1158, 651, 1215, 668],\n",
       "  [697, 416, 759, 440],\n",
       "  [684, 466, 858, 489],\n",
       "  [1089, 652, 1149, 668],\n",
       "  [705, 371, 811, 393],\n",
       "  [684, 645, 787, 664],\n",
       "  [560, 466, 631, 488],\n",
       "  [976, 358, 1036, 372],\n",
       "  [626, 367, 684, 389],\n",
       "  [860, 647, 993, 666],\n",
       "  [695, 301, 770, 320],\n",
       "  [577, 644, 663, 662],\n",
       "  [798, 646, 855, 665],\n",
       "  [808, 233, 1051, 280],\n",
       "  [776, 304, 871, 323],\n",
       "  [864, 405, 943, 419],\n",
       "  [969, 455, 1036, 468],\n",
       "  [540, 217, 770, 266],\n",
       "  [817, 370, 871, 394],\n",
       "  [870, 548, 961, 562],\n",
       "  [1211, 651, 1258, 670],\n",
       "  [560, 364, 637, 392],\n",
       "  [555, 561, 628, 585],\n",
       "  [999, 503, 1091, 516],\n",
       "  [808, 549, 858, 565],\n",
       "  [808, 564, 858, 587],\n",
       "  [562, 414, 639, 440],\n",
       "  [971, 407, 1044, 419],\n",
       "  [558, 513, 630, 537],\n",
       "  [969, 551, 1027, 564],\n",
       "  [890, 357, 973, 373],\n",
       "  [804, 402, 860, 418],\n",
       "  [1038, 649, 1085, 667],\n",
       "  [855, 466, 905, 491],\n",
       "  [991, 649, 1038, 667],\n",
       "  [684, 547, 774, 562],\n",
       "  [757, 356, 834, 371],\n",
       "  [690, 495, 774, 510],\n",
       "  [697, 354, 765, 373],\n",
       "  [1018, 552, 1066, 565],\n",
       "  [845, 452, 916, 469],\n",
       "  [536, 646, 575, 664],\n",
       "  [1044, 359, 1085, 373],\n",
       "  [766, 414, 815, 440],\n",
       "  [900, 453, 965, 468],\n",
       "  [691, 399, 751, 418],\n",
       "  [549, 543, 609, 563],\n",
       "  [691, 448, 755, 466],\n",
       "  [770, 499, 873, 515]],\n",
       " [[682, 566, 798, 587],\n",
       "  [690, 371, 798, 395],\n",
       "  [697, 648, 751, 666],\n",
       "  [684, 304, 757, 323],\n",
       "  [577, 645, 690, 665],\n",
       "  [551, 371, 624, 394],\n",
       "  [763, 305, 864, 325],\n",
       "  [684, 466, 841, 490],\n",
       "  [695, 515, 808, 538],\n",
       "  [965, 358, 1029, 373],\n",
       "  [798, 234, 1044, 283],\n",
       "  [766, 648, 888, 665],\n",
       "  [956, 454, 1027, 469],\n",
       "  [1207, 651, 1246, 669],\n",
       "  [960, 553, 1023, 566],\n",
       "  [684, 419, 750, 442],\n",
       "  [1155, 651, 1201, 668],\n",
       "  [808, 566, 858, 588],\n",
       "  [873, 357, 965, 373],\n",
       "  [547, 514, 622, 540],\n",
       "  [528, 218, 763, 270],\n",
       "  [939, 649, 986, 667],\n",
       "  [545, 564, 624, 589],\n",
       "  [995, 504, 1085, 517],\n",
       "  [853, 405, 941, 419],\n",
       "  [547, 467, 626, 491],\n",
       "  [1053, 650, 1111, 668],\n",
       "  [618, 371, 680, 393],\n",
       "  [791, 403, 853, 419],\n",
       "  [1110, 651, 1151, 668],\n",
       "  [988, 649, 1051, 667],\n",
       "  [841, 452, 958, 470],\n",
       "  [961, 407, 1029, 420],\n",
       "  [858, 550, 941, 564],\n",
       "  [757, 418, 810, 442],\n",
       "  [1031, 359, 1076, 373],\n",
       "  [888, 504, 943, 516],\n",
       "  [849, 468, 911, 491],\n",
       "  [810, 370, 860, 395],\n",
       "  [898, 649, 935, 668],\n",
       "  [682, 449, 781, 468],\n",
       "  [930, 504, 982, 517],\n",
       "  [676, 548, 757, 564],\n",
       "  [798, 355, 870, 373],\n",
       "  [690, 356, 759, 374],\n",
       "  [798, 550, 851, 565],\n",
       "  [738, 357, 815, 374],\n",
       "  [678, 496, 783, 513],\n",
       "  [547, 416, 628, 442],\n",
       "  [553, 354, 596, 371],\n",
       "  [680, 403, 757, 419],\n",
       "  [541, 546, 598, 565],\n",
       "  [821, 503, 886, 516],\n",
       "  [1140, 521, 1171, 541]]]"
      ]
     },
     "execution_count": 13,
     "metadata": {},
     "output_type": "execute_result"
    }
   ],
   "source": [
    "coordinates_list"
   ]
  },
  {
   "cell_type": "code",
   "execution_count": 14,
   "metadata": {},
   "outputs": [],
   "source": [
    "def calculate_overlap_area(rect1, rect2):\n",
    "    \"\"\"\n",
    "    Calculate the overlapping area between two rectangles.\n",
    "    \n",
    "    rect1 and rect2 are tuples in the form (startX, startY, endX, endY)\n",
    "    \"\"\"\n",
    "    x1_max = max(rect1[0], rect2[0])\n",
    "    y1_max = max(rect1[1], rect2[1])\n",
    "    x2_min = min(rect1[2], rect2[2])\n",
    "    y2_min = min(rect1[3], rect2[3])\n",
    "    \n",
    "    overlap_width = max(0, x2_min - x1_max)\n",
    "    overlap_height = max(0, y2_min - y1_max)\n",
    "    \n",
    "    if x1_max >= x2_min or y1_max >= y2_min:\n",
    "        return 0\n",
    "    \n",
    "    return overlap_width * overlap_height\n",
    "\n",
    "\n",
    "def sum_overlapping_areas(main_rect, rectangles):\n",
    "    \"\"\"\n",
    "    Calculate the sum of overlapping areas of multiple rectangles with the main rectangle.\n",
    "    \n",
    "    main_rect is a tuple in the form (startX, startY, endX, endY)\n",
    "    rectangles is a list of tuples in the same form\n",
    "    \"\"\"\n",
    "    total_overlap_area = 0\n",
    "    for rect in rectangles:\n",
    "        total_overlap_area += calculate_overlap_area(main_rect, rect)\n",
    "    \n",
    "    return total_overlap_area\n"
   ]
  },
  {
   "cell_type": "code",
   "execution_count": 15,
   "metadata": {},
   "outputs": [],
   "source": [
    "\n",
    "overlap_areas = []\n",
    "choose_frames = random.sample(list(range(len(saved_frame_nums))), num_frames_for_overlap_check)\n",
    "\n",
    "for opflow_box_coordinate in opflow_box_coordinates:\n",
    "    total_overlap = 0\n",
    "    for frame_index in choose_frames:\n",
    "        total_overlap += sum_overlapping_areas(opflow_box_coordinate, coordinates_list[frame_index])\n",
    "    overlap_areas.append(total_overlap)\n",
    "\n",
    "rolling_box_index = np.argmax(np.array(overlap_areas))\n",
    "rolling_box = opflow_box_coordinates[rolling_box_index]"
   ]
  },
  {
   "cell_type": "code",
   "execution_count": 16,
   "metadata": {},
   "outputs": [
    {
     "data": {
      "text/plain": [
       "(553, 643, 1259, 717)"
      ]
     },
     "execution_count": 16,
     "metadata": {},
     "output_type": "execute_result"
    }
   ],
   "source": [
    "rolling_box"
   ]
  },
  {
   "cell_type": "markdown",
   "metadata": {},
   "source": [
    "#### After getting the rolling box\n",
    "\n",
    "* For all the east boxes in each frame, calculate their overlapping area with the rolling box\n",
    "* If overlapping area / east box area >= rolling_text_confidence, this is a part of the rolling text\n",
    "* Crop this part and save to the folder in each frame. \\\n",
    "TBD: The cropped text images should follow a left to right sequence"
   ]
  },
  {
   "cell_type": "code",
   "execution_count": 17,
   "metadata": {},
   "outputs": [],
   "source": [
    "# TODO: The cropped text images should follow a left to right sequence"
   ]
  },
  {
   "cell_type": "code",
   "execution_count": 18,
   "metadata": {},
   "outputs": [],
   "source": [
    "def crop_and_save_image(image_path, coords, output_path):\n",
    "    ''' saves crops of original image according to specified coordinates \n",
    "\n",
    "    param image_path: path to original image\n",
    "    param coordinates: coordinates of bounding boxes in tuple (x_min, y_min, x_max, y_max)\n",
    "    param output_path: path of output file'''\n",
    "    \n",
    "    img = cv2.imread(image_path)\n",
    "    x_min, y_min, x_max, y_max = coords\n",
    "    cropped_img = img[y_min:y_max, x_min:x_max]\n",
    "    \n",
    "\n",
    "    # Save\n",
    "    try:\n",
    "        cv2.imwrite(output_path, cropped_img)\n",
    "    except cv2.error as e:\n",
    "        print(coords)\n",
    "        print(f\"OpenCV error: {e}\")\n"
   ]
  },
  {
   "cell_type": "code",
   "execution_count": 19,
   "metadata": {},
   "outputs": [
    {
     "name": "stdout",
     "output_type": "stream",
     "text": [
      "Saved cropped image to ./train8_image_frames/croppedFrame0/1.jpg for rectangle [1170, 652, 1222, 668]\n",
      "Saved cropped image to ./train8_image_frames/croppedFrame0/2.jpg for rectangle [847, 645, 930, 662]\n",
      "Saved cropped image to ./train8_image_frames/croppedFrame0/3.jpg for rectangle [693, 643, 765, 661]\n",
      "Saved cropped image to ./train8_image_frames/croppedFrame0/4.jpg for rectangle [626, 643, 686, 660]\n",
      "Saved cropped image to ./train8_image_frames/croppedFrame0/5.jpg for rectangle [571, 642, 618, 661]\n",
      "Saved cropped image to ./train8_image_frames/croppedFrame0/10.jpg for rectangle [916, 647, 1003, 666]\n",
      "Saved cropped image to ./train8_image_frames/croppedFrame0/23.jpg for rectangle [1209, 651, 1252, 671]\n",
      "Saved cropped image to ./train8_image_frames/croppedFrame0/26.jpg for rectangle [1063, 652, 1153, 669]\n",
      "Saved cropped image to ./train8_image_frames/croppedFrame0/29.jpg for rectangle [1021, 649, 1059, 667]\n",
      "Saved cropped image to ./train8_image_frames/croppedFrame0/38.jpg for rectangle [789, 646, 840, 662]\n",
      "Saved cropped image to ./train8_image_frames/croppedFrame50/0.jpg for rectangle [560, 652, 605, 669]\n",
      "Saved cropped image to ./train8_image_frames/croppedFrame50/3.jpg for rectangle [615, 651, 678, 669]\n",
      "Saved cropped image to ./train8_image_frames/croppedFrame50/4.jpg for rectangle [770, 650, 922, 669]\n",
      "Saved cropped image to ./train8_image_frames/croppedFrame50/5.jpg for rectangle [1186, 659, 1241, 678]\n",
      "Saved cropped image to ./train8_image_frames/croppedFrame50/14.jpg for rectangle [1085, 659, 1179, 676]\n",
      "Saved cropped image to ./train8_image_frames/croppedFrame50/20.jpg for rectangle [993, 657, 1072, 675]\n",
      "Saved cropped image to ./train8_image_frames/croppedFrame50/32.jpg for rectangle [931, 656, 969, 675]\n",
      "Saved cropped image to ./train8_image_frames/croppedFrame50/39.jpg for rectangle [710, 653, 755, 670]\n",
      "Saved cropped image to ./train8_image_frames/croppedFrame50/45.jpg for rectangle [667, 652, 710, 669]\n",
      "Saved cropped image to ./train8_image_frames/croppedFrame100/0.jpg for rectangle [1005, 669, 1089, 686]\n",
      "Saved cropped image to ./train8_image_frames/croppedFrame100/6.jpg for rectangle [1096, 669, 1151, 687]\n",
      "Saved cropped image to ./train8_image_frames/croppedFrame100/11.jpg for rectangle [705, 664, 834, 682]\n",
      "Saved cropped image to ./train8_image_frames/croppedFrame100/12.jpg for rectangle [1201, 670, 1269, 690]\n",
      "Saved cropped image to ./train8_image_frames/croppedFrame100/23.jpg for rectangle [843, 667, 879, 684]\n",
      "Saved cropped image to ./train8_image_frames/croppedFrame100/27.jpg for rectangle [564, 664, 611, 680]\n",
      "Saved cropped image to ./train8_image_frames/croppedFrame100/29.jpg for rectangle [1149, 671, 1194, 687]\n",
      "Saved cropped image to ./train8_image_frames/croppedFrame100/30.jpg for rectangle [907, 666, 976, 683]\n",
      "Saved cropped image to ./train8_image_frames/croppedFrame100/36.jpg for rectangle [613, 663, 665, 681]\n",
      "Saved cropped image to ./train8_image_frames/croppedFrame150/0.jpg for rectangle [1104, 678, 1263, 696]\n",
      "Saved cropped image to ./train8_image_frames/croppedFrame150/2.jpg for rectangle [1057, 678, 1106, 693]\n",
      "Saved cropped image to ./train8_image_frames/croppedFrame150/4.jpg for rectangle [1001, 673, 1051, 692]\n",
      "Saved cropped image to ./train8_image_frames/croppedFrame150/5.jpg for rectangle [596, 667, 746, 687]\n",
      "Saved cropped image to ./train8_image_frames/croppedFrame150/7.jpg for rectangle [915, 672, 997, 690]\n",
      "Saved cropped image to ./train8_image_frames/croppedFrame150/13.jpg for rectangle [793, 670, 888, 687]\n",
      "Saved cropped image to ./train8_image_frames/croppedFrame150/18.jpg for rectangle [746, 669, 791, 686]\n",
      "Saved cropped image to ./train8_image_frames/croppedFrame200/0.jpg for rectangle [802, 669, 903, 688]\n",
      "Saved cropped image to ./train8_image_frames/croppedFrame200/3.jpg for rectangle [1083, 678, 1179, 696]\n",
      "Saved cropped image to ./train8_image_frames/croppedFrame200/5.jpg for rectangle [562, 664, 645, 683]\n",
      "Saved cropped image to ./train8_image_frames/croppedFrame200/9.jpg for rectangle [1018, 673, 1096, 691]\n",
      "Saved cropped image to ./train8_image_frames/croppedFrame200/11.jpg for rectangle [911, 672, 965, 690]\n",
      "Saved cropped image to ./train8_image_frames/croppedFrame200/12.jpg for rectangle [1177, 679, 1222, 697]\n",
      "Saved cropped image to ./train8_image_frames/croppedFrame200/16.jpg for rectangle [967, 673, 1010, 690]\n",
      "Saved cropped image to ./train8_image_frames/croppedFrame200/25.jpg for rectangle [1226, 678, 1267, 699]\n",
      "Saved cropped image to ./train8_image_frames/croppedFrame200/27.jpg for rectangle [705, 666, 781, 683]\n",
      "Saved cropped image to ./train8_image_frames/croppedFrame200/37.jpg for rectangle [660, 666, 701, 684]\n",
      "Saved cropped image to ./train8_image_frames/croppedFrame250/0.jpg for rectangle [708, 660, 806, 678]\n",
      "Saved cropped image to ./train8_image_frames/croppedFrame250/2.jpg for rectangle [1171, 669, 1224, 688]\n",
      "Saved cropped image to ./train8_image_frames/croppedFrame250/3.jpg for rectangle [1125, 669, 1168, 686]\n",
      "Saved cropped image to ./train8_image_frames/croppedFrame250/7.jpg for rectangle [924, 664, 993, 682]\n",
      "Saved cropped image to ./train8_image_frames/croppedFrame250/10.jpg for rectangle [811, 663, 856, 681]\n",
      "Saved cropped image to ./train8_image_frames/croppedFrame250/11.jpg for rectangle [1080, 669, 1126, 686]\n",
      "Saved cropped image to ./train8_image_frames/croppedFrame250/21.jpg for rectangle [868, 665, 909, 682]\n",
      "Saved cropped image to ./train8_image_frames/croppedFrame250/24.jpg for rectangle [592, 658, 690, 677]\n",
      "Saved cropped image to ./train8_image_frames/croppedFrame250/27.jpg for rectangle [993, 666, 1081, 683]\n",
      "Saved cropped image to ./train8_image_frames/croppedFrame250/28.jpg for rectangle [547, 657, 590, 676]\n",
      "Saved cropped image to ./train8_image_frames/croppedFrame300/1.jpg for rectangle [819, 670, 898, 687]\n",
      "Saved cropped image to ./train8_image_frames/croppedFrame300/2.jpg for rectangle [1130, 677, 1230, 695]\n",
      "Saved cropped image to ./train8_image_frames/croppedFrame300/3.jpg for rectangle [712, 669, 765, 686]\n",
      "Saved cropped image to ./train8_image_frames/croppedFrame300/4.jpg for rectangle [765, 669, 815, 686]\n",
      "Saved cropped image to ./train8_image_frames/croppedFrame300/5.jpg for rectangle [1074, 677, 1126, 695]\n",
      "Saved cropped image to ./train8_image_frames/croppedFrame300/9.jpg for rectangle [607, 668, 703, 686]\n",
      "Saved cropped image to ./train8_image_frames/croppedFrame300/13.jpg for rectangle [888, 673, 980, 691]\n",
      "Saved cropped image to ./train8_image_frames/croppedFrame300/26.jpg for rectangle [1020, 677, 1063, 695]\n",
      "Saved cropped image to ./train8_image_frames/croppedFrame300/33.jpg for rectangle [543, 666, 598, 685]\n",
      "Saved cropped image to ./train8_image_frames/croppedFrame300/45.jpg for rectangle [976, 676, 1021, 693]\n",
      "Saved cropped image to ./train8_image_frames/croppedFrame350/0.jpg for rectangle [545, 668, 613, 686]\n",
      "Saved cropped image to ./train8_image_frames/croppedFrame350/1.jpg for rectangle [620, 668, 675, 686]\n",
      "Saved cropped image to ./train8_image_frames/croppedFrame350/2.jpg for rectangle [729, 669, 825, 686]\n",
      "Saved cropped image to ./train8_image_frames/croppedFrame350/3.jpg for rectangle [673, 669, 725, 686]\n",
      "Saved cropped image to ./train8_image_frames/croppedFrame350/8.jpg for rectangle [1140, 679, 1241, 697]\n",
      "Saved cropped image to ./train8_image_frames/croppedFrame350/9.jpg for rectangle [1040, 678, 1132, 696]\n",
      "Saved cropped image to ./train8_image_frames/croppedFrame350/18.jpg for rectangle [982, 675, 1036, 693]\n",
      "Saved cropped image to ./train8_image_frames/croppedFrame350/32.jpg for rectangle [935, 675, 973, 692]\n",
      "Saved cropped image to ./train8_image_frames/croppedFrame350/40.jpg for rectangle [885, 673, 931, 692]\n",
      "Saved cropped image to ./train8_image_frames/croppedFrame400/1.jpg for rectangle [1050, 668, 1168, 687]\n",
      "Saved cropped image to ./train8_image_frames/croppedFrame400/2.jpg for rectangle [946, 669, 1040, 687]\n",
      "Saved cropped image to ./train8_image_frames/croppedFrame400/7.jpg for rectangle [1164, 672, 1224, 691]\n",
      "Saved cropped image to ./train8_image_frames/croppedFrame400/9.jpg for rectangle [892, 667, 945, 685]\n",
      "Saved cropped image to ./train8_image_frames/croppedFrame400/14.jpg for rectangle [639, 663, 712, 681]\n",
      "Saved cropped image to ./train8_image_frames/croppedFrame400/15.jpg for rectangle [577, 665, 626, 682]\n",
      "Saved cropped image to ./train8_image_frames/croppedFrame400/18.jpg for rectangle [708, 665, 796, 683]\n",
      "Saved cropped image to ./train8_image_frames/croppedFrame400/19.jpg for rectangle [841, 668, 881, 685]\n",
      "Saved cropped image to ./train8_image_frames/croppedFrame400/22.jpg for rectangle [541, 664, 581, 683]\n",
      "Saved cropped image to ./train8_image_frames/croppedFrame400/35.jpg for rectangle [796, 668, 843, 685]\n",
      "Saved cropped image to ./train8_image_frames/croppedFrame450/0.jpg for rectangle [1065, 670, 1121, 687]\n",
      "Saved cropped image to ./train8_image_frames/croppedFrame450/2.jpg for rectangle [536, 661, 701, 679]\n",
      "Saved cropped image to ./train8_image_frames/croppedFrame450/4.jpg for rectangle [950, 668, 1068, 686]\n",
      "Saved cropped image to ./train8_image_frames/croppedFrame450/10.jpg for rectangle [791, 664, 843, 683]\n",
      "Saved cropped image to ./train8_image_frames/croppedFrame450/19.jpg for rectangle [1128, 670, 1235, 689]\n",
      "Saved cropped image to ./train8_image_frames/croppedFrame450/22.jpg for rectangle [744, 664, 783, 683]\n",
      "Saved cropped image to ./train8_image_frames/croppedFrame450/27.jpg for rectangle [851, 664, 943, 682]\n",
      "Saved cropped image to ./train8_image_frames/croppedFrame450/29.jpg for rectangle [691, 665, 735, 682]\n",
      "Saved cropped image to ./train8_image_frames/croppedFrame500/1.jpg for rectangle [540, 661, 611, 679]\n",
      "Saved cropped image to ./train8_image_frames/croppedFrame500/4.jpg for rectangle [1038, 668, 1175, 687]\n",
      "Saved cropped image to ./train8_image_frames/croppedFrame500/7.jpg for rectangle [757, 664, 855, 683]\n",
      "Saved cropped image to ./train8_image_frames/croppedFrame500/9.jpg for rectangle [1175, 670, 1222, 687]\n",
      "Saved cropped image to ./train8_image_frames/croppedFrame500/11.jpg for rectangle [875, 664, 975, 683]\n",
      "Saved cropped image to ./train8_image_frames/croppedFrame500/13.jpg for rectangle [701, 663, 751, 681]\n",
      "Saved cropped image to ./train8_image_frames/croppedFrame500/24.jpg for rectangle [980, 666, 1036, 684]\n",
      "Saved cropped image to ./train8_image_frames/croppedFrame500/25.jpg for rectangle [605, 662, 646, 681]\n",
      "Saved cropped image to ./train8_image_frames/croppedFrame500/27.jpg for rectangle [656, 663, 693, 682]\n",
      "Saved cropped image to ./train8_image_frames/croppedFrame500/44.jpg for rectangle [1213, 673, 1252, 692]\n",
      "Saved cropped image to ./train8_image_frames/croppedFrame550/3.jpg for rectangle [1183, 652, 1241, 670]\n",
      "Saved cropped image to ./train8_image_frames/croppedFrame550/5.jpg for rectangle [613, 644, 667, 663]\n",
      "Saved cropped image to ./train8_image_frames/croppedFrame550/6.jpg for rectangle [1132, 652, 1177, 670]\n",
      "Saved cropped image to ./train8_image_frames/croppedFrame550/9.jpg for rectangle [665, 645, 763, 666]\n",
      "Saved cropped image to ./train8_image_frames/croppedFrame550/11.jpg for rectangle [558, 643, 605, 663]\n",
      "Saved cropped image to ./train8_image_frames/croppedFrame550/15.jpg for rectangle [890, 647, 945, 666]\n",
      "Saved cropped image to ./train8_image_frames/croppedFrame550/17.jpg for rectangle [776, 646, 868, 666]\n",
      "Saved cropped image to ./train8_image_frames/croppedFrame550/18.jpg for rectangle [948, 650, 1081, 669]\n",
      "Saved cropped image to ./train8_image_frames/croppedFrame550/21.jpg for rectangle [1083, 651, 1130, 669]\n",
      "Saved cropped image to ./train8_image_frames/croppedFrame600/2.jpg for rectangle [1158, 651, 1215, 668]\n",
      "Saved cropped image to ./train8_image_frames/croppedFrame600/5.jpg for rectangle [1089, 652, 1149, 668]\n",
      "Saved cropped image to ./train8_image_frames/croppedFrame600/7.jpg for rectangle [684, 645, 787, 664]\n",
      "Saved cropped image to ./train8_image_frames/croppedFrame600/11.jpg for rectangle [860, 647, 993, 666]\n",
      "Saved cropped image to ./train8_image_frames/croppedFrame600/13.jpg for rectangle [577, 644, 663, 662]\n",
      "Saved cropped image to ./train8_image_frames/croppedFrame600/14.jpg for rectangle [798, 646, 855, 665]\n",
      "Saved cropped image to ./train8_image_frames/croppedFrame600/22.jpg for rectangle [1211, 651, 1258, 670]\n",
      "Saved cropped image to ./train8_image_frames/croppedFrame600/34.jpg for rectangle [1038, 649, 1085, 667]\n",
      "Saved cropped image to ./train8_image_frames/croppedFrame600/36.jpg for rectangle [991, 649, 1038, 667]\n",
      "Saved cropped image to ./train8_image_frames/croppedFrame600/43.jpg for rectangle [536, 646, 575, 664]\n",
      "Saved cropped image to ./train8_image_frames/croppedFrame650/2.jpg for rectangle [697, 648, 751, 666]\n",
      "Saved cropped image to ./train8_image_frames/croppedFrame650/4.jpg for rectangle [577, 645, 690, 665]\n",
      "Saved cropped image to ./train8_image_frames/croppedFrame650/11.jpg for rectangle [766, 648, 888, 665]\n",
      "Saved cropped image to ./train8_image_frames/croppedFrame650/13.jpg for rectangle [1207, 651, 1246, 669]\n",
      "Saved cropped image to ./train8_image_frames/croppedFrame650/16.jpg for rectangle [1155, 651, 1201, 668]\n",
      "Saved cropped image to ./train8_image_frames/croppedFrame650/21.jpg for rectangle [939, 649, 986, 667]\n",
      "Saved cropped image to ./train8_image_frames/croppedFrame650/26.jpg for rectangle [1053, 650, 1111, 668]\n",
      "Saved cropped image to ./train8_image_frames/croppedFrame650/29.jpg for rectangle [1110, 651, 1151, 668]\n",
      "Saved cropped image to ./train8_image_frames/croppedFrame650/30.jpg for rectangle [988, 649, 1051, 667]\n",
      "Saved cropped image to ./train8_image_frames/croppedFrame650/39.jpg for rectangle [898, 649, 935, 668]\n"
     ]
    }
   ],
   "source": [
    "for frame_num, rects in zip(saved_frame_nums, coordinates_list):\n",
    "    frame_path = f\"{video_frames_dir}/frame{frame_num}.png\"\n",
    "    # img = Image.open(frame_path)\n",
    "    # display(img)\n",
    "    output_path = f\"{video_frames_dir}/croppedFrame{frame_num}\"\n",
    "    if os.path.isdir(output_path):\n",
    "        print(\"The cropped folders exists! Please can delete them :)\")\n",
    "        break\n",
    "    else:\n",
    "        os.makedirs(output_path)\n",
    "        \n",
    "    for idx, rect in enumerate(rects):\n",
    "        overlap_area = calculate_overlap_area(rolling_box, rect)\n",
    "        rect_area = (rect[2] - rect[0]) * (rect[3] - rect[1])\n",
    "        if rect_area > 0 and (overlap_area / rect_area) >= rolling_text_confidence:\n",
    "            final_outout_path = f\"{output_path}/{idx}.jpg\"\n",
    "            crop_and_save_image(frame_path, rect, final_outout_path)\n",
    "            print(f\"Saved cropped image to {final_outout_path} for rectangle {rect}\")"
   ]
  },
  {
   "cell_type": "markdown",
   "metadata": {},
   "source": [
    "crop and save bounding boxes"
   ]
  },
  {
   "cell_type": "code",
   "execution_count": 20,
   "metadata": {},
   "outputs": [],
   "source": [
    "# adding borders to the boxes:\n",
    "\n",
    "def add_borders(input_img_path, output_img_path):\n",
    "    \"\"\"add borders to the input image.\"\"\"\n",
    "    old_im = Image.open(input_img_path)\n",
    "    old_size = old_im.size\n",
    "    \n",
    "    new_size = (768, 768)\n",
    "    new_im = Image.new(\"RGB\", new_size, (255, 255, 255))   ## luckily, this is already black!\n",
    "    box = tuple((n - o) // 2 for n, o in zip(new_size, old_size))\n",
    "    new_im.paste(old_im, box)\n",
    "    \n",
    "    new_im.save(output_img_path)\n",
    "    \n",
    "# Load models into memory\n",
    "def get_ocr_texts(output_path):\n",
    "\tocr = MMOCRInferencer(det='DBNet', rec='SATRN', device='cpu')\n",
    "\n",
    "\t# Perform inference\n",
    "\tresults = ocr(output_path, show=False, print_result=False)\n",
    "\n",
    "\tassert len(results[\"predictions\"]) == 1\n",
    "\n",
    "\ttuples_list = [(polygon[0], text) for polygon, text in zip(results[\"predictions\"][0][\"det_polygons\"], results[\"predictions\"][0][\"rec_texts\"])]\n",
    "\n",
    "\t# Sort the list of tuples based on the first number in each tuple\n",
    "\tsorted_tuples = sorted(tuples_list, key=lambda x: x[0])\n",
    "\n",
    "\t# Extract the sorted texts\n",
    "\tsorted_ocr_texts = [text for _, text in sorted_tuples]\n",
    " \n",
    "\treturn sorted_ocr_texts"
   ]
  },
  {
   "cell_type": "code",
   "execution_count": 21,
   "metadata": {},
   "outputs": [
    {
     "name": "stdout",
     "output_type": "stream",
     "text": [
      "Saved cropped opflow box to ./train8_image_frames/croppedOpflow/frame_num_0.jpg\n",
      "Loads checkpoint by http backend from path: https://download.openmmlab.com/mmocr/textdet/dbnet/dbnet_resnet50-oclip_1200e_icdar2015/dbnet_resnet50-oclip_1200e_icdar2015_20221102_115917-bde8c87a.pth\n"
     ]
    },
    {
     "name": "stderr",
     "output_type": "stream",
     "text": [
      "/Users/aklywtx/opt/anaconda3/lib/python3.9/site-packages/pandas/core/computation/expressions.py:21: UserWarning: Pandas requires version '2.8.4' or newer of 'numexpr' (version '2.8.3' currently installed).\n",
      "  from pandas.core.computation.check import NUMEXPR_INSTALLED\n",
      "/Users/aklywtx/opt/anaconda3/lib/python3.9/site-packages/pandas/core/arrays/masked.py:60: UserWarning: Pandas requires version '1.3.6' or newer of 'bottleneck' (version '1.3.5' currently installed).\n",
      "  from pandas.core import (\n"
     ]
    },
    {
     "name": "stdout",
     "output_type": "stream",
     "text": [
      "07/31 20:55:16 - mmengine - WARNING - Failed to search registry with scope \"mmocr\" in the \"function\" registry tree. As a workaround, the current \"function\" registry in \"mmengine\" is used to build instance. This may cause unexpected failure when running the built modules. Please check whether \"mmocr\" is a correct scope, or whether the registry is initialized.\n",
      "Loads checkpoint by http backend from path: https://download.openmmlab.com/mmocr/textrecog/satrn/satrn_shallow_5e_st_mj/satrn_shallow_5e_st_mj_20220915_152443-5fd04a4c.pth\n"
     ]
    },
    {
     "name": "stderr",
     "output_type": "stream",
     "text": [
      "/Users/aklywtx/opt/anaconda3/lib/python3.9/site-packages/mmengine/visualization/visualizer.py:196: UserWarning: Failed to add <class 'mmengine.visualization.vis_backend.LocalVisBackend'>, please provide the `save_dir` argument.\n",
      "  warnings.warn(f'Failed to add {vis_backend.__class__}, '\n"
     ]
    },
    {
     "data": {
      "application/vnd.jupyter.widget-view+json": {
       "model_id": "74c1f25487414852853ba7850cc74fdd",
       "version_major": 2,
       "version_minor": 0
      },
      "text/plain": [
       "Output()"
      ]
     },
     "metadata": {},
     "output_type": "display_data"
    },
    {
     "name": "stdout",
     "output_type": "stream",
     "text": [
      "The model and loaded state dict do not match exactly\n",
      "\n",
      "unexpected key in source state_dict: data_preprocessor.mean, data_preprocessor.std\n",
      "\n"
     ]
    },
    {
     "data": {
      "text/html": [
       "<pre style=\"white-space:pre;overflow-x:auto;line-height:normal;font-family:Menlo,'DejaVu Sans Mono',consolas,'Courier New',monospace\">\n",
       "</pre>\n"
      ],
      "text/plain": [
       "\n"
      ]
     },
     "metadata": {},
     "output_type": "display_data"
    },
    {
     "data": {
      "text/html": [
       "<pre style=\"white-space:pre;overflow-x:auto;line-height:normal;font-family:Menlo,'DejaVu Sans Mono',consolas,'Courier New',monospace\">\n",
       "</pre>\n"
      ],
      "text/plain": [
       "\n"
      ]
     },
     "metadata": {},
     "output_type": "display_data"
    },
    {
     "data": {
      "text/html": [
       "<pre style=\"white-space:pre;overflow-x:auto;line-height:normal;font-family:Menlo,'DejaVu Sans Mono',consolas,'Courier New',monospace\"></pre>\n"
      ],
      "text/plain": []
     },
     "metadata": {},
     "output_type": "display_data"
    },
    {
     "data": {
      "text/html": [
       "<pre style=\"white-space:pre;overflow-x:auto;line-height:normal;font-family:Menlo,'DejaVu Sans Mono',consolas,'Courier New',monospace\">\n",
       "</pre>\n"
      ],
      "text/plain": [
       "\n"
      ]
     },
     "metadata": {},
     "output_type": "display_data"
    },
    {
     "name": "stdout",
     "output_type": "stream",
     "text": [
      "Current frame ocr texts are ['sich', 'unter', 'bahn.de', '+++', 'Ferienfahrplan', 'bis', '25.08.24', 'zwischer']\n",
      "Saved cropped opflow box to ./train8_image_frames/croppedOpflow/frame_num_50.jpg\n",
      "Loads checkpoint by http backend from path: https://download.openmmlab.com/mmocr/textdet/dbnet/dbnet_resnet50-oclip_1200e_icdar2015/dbnet_resnet50-oclip_1200e_icdar2015_20221102_115917-bde8c87a.pth\n",
      "Loads checkpoint by http backend from path: https://download.openmmlab.com/mmocr/textrecog/satrn/satrn_shallow_5e_st_mj/satrn_shallow_5e_st_mj_20220915_152443-5fd04a4c.pth\n"
     ]
    },
    {
     "data": {
      "application/vnd.jupyter.widget-view+json": {
       "model_id": "396c7b523c314c2fae2b18b11a3aebcd",
       "version_major": 2,
       "version_minor": 0
      },
      "text/plain": [
       "Output()"
      ]
     },
     "metadata": {},
     "output_type": "display_data"
    },
    {
     "name": "stdout",
     "output_type": "stream",
     "text": [
      "The model and loaded state dict do not match exactly\n",
      "\n",
      "unexpected key in source state_dict: data_preprocessor.mean, data_preprocessor.std\n",
      "\n"
     ]
    },
    {
     "data": {
      "text/html": [
       "<pre style=\"white-space:pre;overflow-x:auto;line-height:normal;font-family:Menlo,'DejaVu Sans Mono',consolas,'Courier New',monospace\">\n",
       "</pre>\n"
      ],
      "text/plain": [
       "\n"
      ]
     },
     "metadata": {},
     "output_type": "display_data"
    },
    {
     "data": {
      "text/html": [
       "<pre style=\"white-space:pre;overflow-x:auto;line-height:normal;font-family:Menlo,'DejaVu Sans Mono',consolas,'Courier New',monospace\">\n",
       "</pre>\n"
      ],
      "text/plain": [
       "\n"
      ]
     },
     "metadata": {},
     "output_type": "display_data"
    },
    {
     "data": {
      "text/html": [
       "<pre style=\"white-space:pre;overflow-x:auto;line-height:normal;font-family:Menlo,'DejaVu Sans Mono',consolas,'Courier New',monospace\"></pre>\n"
      ],
      "text/plain": []
     },
     "metadata": {},
     "output_type": "display_data"
    },
    {
     "data": {
      "text/html": [
       "<pre style=\"white-space:pre;overflow-x:auto;line-height:normal;font-family:Menlo,'DejaVu Sans Mono',consolas,'Courier New',monospace\">\n",
       "</pre>\n"
      ],
      "text/plain": [
       "\n"
      ]
     },
     "metadata": {},
     "output_type": "display_data"
    },
    {
     "name": "stdout",
     "output_type": "stream",
     "text": [
      "Current frame ocr texts are ['nter', 'bahn.de', '+++', 'Ferienfahrplan', 'big', '25.08.24', 'zwischen', 'Trier']\n",
      "Saved cropped opflow box to ./train8_image_frames/croppedOpflow/frame_num_100.jpg\n",
      "Loads checkpoint by http backend from path: https://download.openmmlab.com/mmocr/textdet/dbnet/dbnet_resnet50-oclip_1200e_icdar2015/dbnet_resnet50-oclip_1200e_icdar2015_20221102_115917-bde8c87a.pth\n",
      "Loads checkpoint by http backend from path: https://download.openmmlab.com/mmocr/textrecog/satrn/satrn_shallow_5e_st_mj/satrn_shallow_5e_st_mj_20220915_152443-5fd04a4c.pth\n"
     ]
    },
    {
     "data": {
      "application/vnd.jupyter.widget-view+json": {
       "model_id": "0df9aeac565342db8a7a05c86095b0d5",
       "version_major": 2,
       "version_minor": 0
      },
      "text/plain": [
       "Output()"
      ]
     },
     "metadata": {},
     "output_type": "display_data"
    },
    {
     "name": "stdout",
     "output_type": "stream",
     "text": [
      "The model and loaded state dict do not match exactly\n",
      "\n",
      "unexpected key in source state_dict: data_preprocessor.mean, data_preprocessor.std\n",
      "\n"
     ]
    },
    {
     "data": {
      "text/html": [
       "<pre style=\"white-space:pre;overflow-x:auto;line-height:normal;font-family:Menlo,'DejaVu Sans Mono',consolas,'Courier New',monospace\">\n",
       "</pre>\n"
      ],
      "text/plain": [
       "\n"
      ]
     },
     "metadata": {},
     "output_type": "display_data"
    },
    {
     "data": {
      "text/html": [
       "<pre style=\"white-space:pre;overflow-x:auto;line-height:normal;font-family:Menlo,'DejaVu Sans Mono',consolas,'Courier New',monospace\">\n",
       "</pre>\n"
      ],
      "text/plain": [
       "\n"
      ]
     },
     "metadata": {},
     "output_type": "display_data"
    },
    {
     "data": {
      "text/html": [
       "<pre style=\"white-space:pre;overflow-x:auto;line-height:normal;font-family:Menlo,'DejaVu Sans Mono',consolas,'Courier New',monospace\"></pre>\n"
      ],
      "text/plain": []
     },
     "metadata": {},
     "output_type": "display_data"
    },
    {
     "data": {
      "text/html": [
       "<pre style=\"white-space:pre;overflow-x:auto;line-height:normal;font-family:Menlo,'DejaVu Sans Mono',consolas,'Courier New',monospace\">\n",
       "</pre>\n"
      ],
      "text/plain": [
       "\n"
      ]
     },
     "metadata": {},
     "output_type": "display_data"
    },
    {
     "name": "stdout",
     "output_type": "stream",
     "text": [
      "Current frame ocr texts are ['n.de', '+++', 'Ferienfahrplan', 'bis', '25.08.24', 'zwischen', 'Trier', 'und', 'Kaise']\n",
      "Saved cropped opflow box to ./train8_image_frames/croppedOpflow/frame_num_150.jpg\n",
      "Loads checkpoint by http backend from path: https://download.openmmlab.com/mmocr/textdet/dbnet/dbnet_resnet50-oclip_1200e_icdar2015/dbnet_resnet50-oclip_1200e_icdar2015_20221102_115917-bde8c87a.pth\n",
      "Loads checkpoint by http backend from path: https://download.openmmlab.com/mmocr/textrecog/satrn/satrn_shallow_5e_st_mj/satrn_shallow_5e_st_mj_20220915_152443-5fd04a4c.pth\n"
     ]
    },
    {
     "data": {
      "application/vnd.jupyter.widget-view+json": {
       "model_id": "4b511b1e953b4196a18f7798f930de8d",
       "version_major": 2,
       "version_minor": 0
      },
      "text/plain": [
       "Output()"
      ]
     },
     "metadata": {},
     "output_type": "display_data"
    },
    {
     "name": "stdout",
     "output_type": "stream",
     "text": [
      "The model and loaded state dict do not match exactly\n",
      "\n",
      "unexpected key in source state_dict: data_preprocessor.mean, data_preprocessor.std\n",
      "\n"
     ]
    },
    {
     "data": {
      "text/html": [
       "<pre style=\"white-space:pre;overflow-x:auto;line-height:normal;font-family:Menlo,'DejaVu Sans Mono',consolas,'Courier New',monospace\">\n",
       "</pre>\n"
      ],
      "text/plain": [
       "\n"
      ]
     },
     "metadata": {},
     "output_type": "display_data"
    },
    {
     "data": {
      "text/html": [
       "<pre style=\"white-space:pre;overflow-x:auto;line-height:normal;font-family:Menlo,'DejaVu Sans Mono',consolas,'Courier New',monospace\">\n",
       "</pre>\n"
      ],
      "text/plain": [
       "\n"
      ]
     },
     "metadata": {},
     "output_type": "display_data"
    },
    {
     "data": {
      "text/html": [
       "<pre style=\"white-space:pre;overflow-x:auto;line-height:normal;font-family:Menlo,'DejaVu Sans Mono',consolas,'Courier New',monospace\"></pre>\n"
      ],
      "text/plain": []
     },
     "metadata": {},
     "output_type": "display_data"
    },
    {
     "data": {
      "text/html": [
       "<pre style=\"white-space:pre;overflow-x:auto;line-height:normal;font-family:Menlo,'DejaVu Sans Mono',consolas,'Courier New',monospace\">\n",
       "</pre>\n"
      ],
      "text/plain": [
       "\n"
      ]
     },
     "metadata": {},
     "output_type": "display_data"
    },
    {
     "name": "stdout",
     "output_type": "stream",
     "text": [
      "Current frame ocr texts are ['Ferienfahrplan', 'bis', '25.08.24', 'zwischen', 'Trier', 'und', 'Kaiserslauter']\n",
      "Saved cropped opflow box to ./train8_image_frames/croppedOpflow/frame_num_200.jpg\n",
      "Loads checkpoint by http backend from path: https://download.openmmlab.com/mmocr/textdet/dbnet/dbnet_resnet50-oclip_1200e_icdar2015/dbnet_resnet50-oclip_1200e_icdar2015_20221102_115917-bde8c87a.pth\n",
      "Loads checkpoint by http backend from path: https://download.openmmlab.com/mmocr/textrecog/satrn/satrn_shallow_5e_st_mj/satrn_shallow_5e_st_mj_20220915_152443-5fd04a4c.pth\n"
     ]
    },
    {
     "data": {
      "application/vnd.jupyter.widget-view+json": {
       "model_id": "c9ae9e95ca96493e8455da1b8fa374f9",
       "version_major": 2,
       "version_minor": 0
      },
      "text/plain": [
       "Output()"
      ]
     },
     "metadata": {},
     "output_type": "display_data"
    },
    {
     "name": "stdout",
     "output_type": "stream",
     "text": [
      "The model and loaded state dict do not match exactly\n",
      "\n",
      "unexpected key in source state_dict: data_preprocessor.mean, data_preprocessor.std\n",
      "\n"
     ]
    },
    {
     "data": {
      "text/html": [
       "<pre style=\"white-space:pre;overflow-x:auto;line-height:normal;font-family:Menlo,'DejaVu Sans Mono',consolas,'Courier New',monospace\">\n",
       "</pre>\n"
      ],
      "text/plain": [
       "\n"
      ]
     },
     "metadata": {},
     "output_type": "display_data"
    },
    {
     "data": {
      "text/html": [
       "<pre style=\"white-space:pre;overflow-x:auto;line-height:normal;font-family:Menlo,'DejaVu Sans Mono',consolas,'Courier New',monospace\">\n",
       "</pre>\n"
      ],
      "text/plain": [
       "\n"
      ]
     },
     "metadata": {},
     "output_type": "display_data"
    },
    {
     "data": {
      "text/html": [
       "<pre style=\"white-space:pre;overflow-x:auto;line-height:normal;font-family:Menlo,'DejaVu Sans Mono',consolas,'Courier New',monospace\"></pre>\n"
      ],
      "text/plain": []
     },
     "metadata": {},
     "output_type": "display_data"
    },
    {
     "data": {
      "text/html": [
       "<pre style=\"white-space:pre;overflow-x:auto;line-height:normal;font-family:Menlo,'DejaVu Sans Mono',consolas,'Courier New',monospace\">\n",
       "</pre>\n"
      ],
      "text/plain": [
       "\n"
      ]
     },
     "metadata": {},
     "output_type": "display_data"
    },
    {
     "name": "stdout",
     "output_type": "stream",
     "text": [
      "Current frame ocr texts are ['fahrplan', 'bis', '25.08.24', 'zwischen', 'Trier', 'und', 'Kaiserslautern', 'for', 'for']\n",
      "Saved cropped opflow box to ./train8_image_frames/croppedOpflow/frame_num_250.jpg\n",
      "Loads checkpoint by http backend from path: https://download.openmmlab.com/mmocr/textdet/dbnet/dbnet_resnet50-oclip_1200e_icdar2015/dbnet_resnet50-oclip_1200e_icdar2015_20221102_115917-bde8c87a.pth\n",
      "Loads checkpoint by http backend from path: https://download.openmmlab.com/mmocr/textrecog/satrn/satrn_shallow_5e_st_mj/satrn_shallow_5e_st_mj_20220915_152443-5fd04a4c.pth\n"
     ]
    },
    {
     "data": {
      "application/vnd.jupyter.widget-view+json": {
       "model_id": "88b9d70f692745d484c9c760213314f9",
       "version_major": 2,
       "version_minor": 0
      },
      "text/plain": [
       "Output()"
      ]
     },
     "metadata": {},
     "output_type": "display_data"
    },
    {
     "name": "stdout",
     "output_type": "stream",
     "text": [
      "The model and loaded state dict do not match exactly\n",
      "\n",
      "unexpected key in source state_dict: data_preprocessor.mean, data_preprocessor.std\n",
      "\n"
     ]
    },
    {
     "data": {
      "text/html": [
       "<pre style=\"white-space:pre;overflow-x:auto;line-height:normal;font-family:Menlo,'DejaVu Sans Mono',consolas,'Courier New',monospace\">\n",
       "</pre>\n"
      ],
      "text/plain": [
       "\n"
      ]
     },
     "metadata": {},
     "output_type": "display_data"
    },
    {
     "data": {
      "text/html": [
       "<pre style=\"white-space:pre;overflow-x:auto;line-height:normal;font-family:Menlo,'DejaVu Sans Mono',consolas,'Courier New',monospace\">\n",
       "</pre>\n"
      ],
      "text/plain": [
       "\n"
      ]
     },
     "metadata": {},
     "output_type": "display_data"
    },
    {
     "data": {
      "text/html": [
       "<pre style=\"white-space:pre;overflow-x:auto;line-height:normal;font-family:Menlo,'DejaVu Sans Mono',consolas,'Courier New',monospace\"></pre>\n"
      ],
      "text/plain": []
     },
     "metadata": {},
     "output_type": "display_data"
    },
    {
     "data": {
      "text/html": [
       "<pre style=\"white-space:pre;overflow-x:auto;line-height:normal;font-family:Menlo,'DejaVu Sans Mono',consolas,'Courier New',monospace\">\n",
       "</pre>\n"
      ],
      "text/plain": [
       "\n"
      ]
     },
     "metadata": {},
     "output_type": "display_data"
    },
    {
     "name": "stdout",
     "output_type": "stream",
     "text": [
      "Current frame ocr texts are ['bis', '25.08.24', 'zwischen', 'Trier', 'und', 'Kaiserslautern', 'and', 'der', 'Linie', 'Re:']\n",
      "Saved cropped opflow box to ./train8_image_frames/croppedOpflow/frame_num_300.jpg\n",
      "Loads checkpoint by http backend from path: https://download.openmmlab.com/mmocr/textdet/dbnet/dbnet_resnet50-oclip_1200e_icdar2015/dbnet_resnet50-oclip_1200e_icdar2015_20221102_115917-bde8c87a.pth\n",
      "Loads checkpoint by http backend from path: https://download.openmmlab.com/mmocr/textrecog/satrn/satrn_shallow_5e_st_mj/satrn_shallow_5e_st_mj_20220915_152443-5fd04a4c.pth\n"
     ]
    },
    {
     "data": {
      "application/vnd.jupyter.widget-view+json": {
       "model_id": "a795dc8fddcb413385e0fcae71cfe0c8",
       "version_major": 2,
       "version_minor": 0
      },
      "text/plain": [
       "Output()"
      ]
     },
     "metadata": {},
     "output_type": "display_data"
    },
    {
     "data": {
      "text/html": [
       "<pre style=\"white-space:pre;overflow-x:auto;line-height:normal;font-family:Menlo,'DejaVu Sans Mono',consolas,'Courier New',monospace\">\n",
       "</pre>\n"
      ],
      "text/plain": [
       "\n"
      ]
     },
     "metadata": {},
     "output_type": "display_data"
    },
    {
     "data": {
      "text/html": [
       "<pre style=\"white-space:pre;overflow-x:auto;line-height:normal;font-family:Menlo,'DejaVu Sans Mono',consolas,'Courier New',monospace\">\n",
       "</pre>\n"
      ],
      "text/plain": [
       "\n"
      ]
     },
     "metadata": {},
     "output_type": "display_data"
    },
    {
     "data": {
      "text/html": [
       "<pre style=\"white-space:pre;overflow-x:auto;line-height:normal;font-family:Menlo,'DejaVu Sans Mono',consolas,'Courier New',monospace\"></pre>\n"
      ],
      "text/plain": []
     },
     "metadata": {},
     "output_type": "display_data"
    },
    {
     "data": {
      "text/html": [
       "<pre style=\"white-space:pre;overflow-x:auto;line-height:normal;font-family:Menlo,'DejaVu Sans Mono',consolas,'Courier New',monospace\">\n",
       "</pre>\n"
      ],
      "text/plain": [
       "\n"
      ]
     },
     "metadata": {},
     "output_type": "display_data"
    },
    {
     "name": "stdout",
     "output_type": "stream",
     "text": [
      "Current frame ocr texts are ['3.24', 'zwischen', 'Trier', 'and', 'Kaiserslautern', 'auf', 'der', 'Linie', 'RB70/71']\n",
      "Saved cropped opflow box to ./train8_image_frames/croppedOpflow/frame_num_350.jpg\n",
      "Loads checkpoint by http backend from path: https://download.openmmlab.com/mmocr/textdet/dbnet/dbnet_resnet50-oclip_1200e_icdar2015/dbnet_resnet50-oclip_1200e_icdar2015_20221102_115917-bde8c87a.pth\n",
      "Loads checkpoint by http backend from path: https://download.openmmlab.com/mmocr/textrecog/satrn/satrn_shallow_5e_st_mj/satrn_shallow_5e_st_mj_20220915_152443-5fd04a4c.pth\n"
     ]
    },
    {
     "data": {
      "application/vnd.jupyter.widget-view+json": {
       "model_id": "9d2e3b6fdd184c2c95403333238de87b",
       "version_major": 2,
       "version_minor": 0
      },
      "text/plain": [
       "Output()"
      ]
     },
     "metadata": {},
     "output_type": "display_data"
    },
    {
     "name": "stdout",
     "output_type": "stream",
     "text": [
      "The model and loaded state dict do not match exactly\n",
      "\n",
      "unexpected key in source state_dict: data_preprocessor.mean, data_preprocessor.std\n",
      "\n"
     ]
    },
    {
     "data": {
      "text/html": [
       "<pre style=\"white-space:pre;overflow-x:auto;line-height:normal;font-family:Menlo,'DejaVu Sans Mono',consolas,'Courier New',monospace\">\n",
       "</pre>\n"
      ],
      "text/plain": [
       "\n"
      ]
     },
     "metadata": {},
     "output_type": "display_data"
    },
    {
     "data": {
      "text/html": [
       "<pre style=\"white-space:pre;overflow-x:auto;line-height:normal;font-family:Menlo,'DejaVu Sans Mono',consolas,'Courier New',monospace\">\n",
       "</pre>\n"
      ],
      "text/plain": [
       "\n"
      ]
     },
     "metadata": {},
     "output_type": "display_data"
    },
    {
     "data": {
      "text/html": [
       "<pre style=\"white-space:pre;overflow-x:auto;line-height:normal;font-family:Menlo,'DejaVu Sans Mono',consolas,'Courier New',monospace\"></pre>\n"
      ],
      "text/plain": []
     },
     "metadata": {},
     "output_type": "display_data"
    },
    {
     "data": {
      "text/html": [
       "<pre style=\"white-space:pre;overflow-x:auto;line-height:normal;font-family:Menlo,'DejaVu Sans Mono',consolas,'Courier New',monospace\">\n",
       "</pre>\n"
      ],
      "text/plain": [
       "\n"
      ]
     },
     "metadata": {},
     "output_type": "display_data"
    },
    {
     "name": "stdout",
     "output_type": "stream",
     "text": [
      "Current frame ocr texts are ['schen', 'Trier', 'und', 'Kaiserslautern', 'adf', 'der', 'Linie', 'RB70/71', 'beachten']\n",
      "Saved cropped opflow box to ./train8_image_frames/croppedOpflow/frame_num_400.jpg\n",
      "Loads checkpoint by http backend from path: https://download.openmmlab.com/mmocr/textdet/dbnet/dbnet_resnet50-oclip_1200e_icdar2015/dbnet_resnet50-oclip_1200e_icdar2015_20221102_115917-bde8c87a.pth\n",
      "Loads checkpoint by http backend from path: https://download.openmmlab.com/mmocr/textrecog/satrn/satrn_shallow_5e_st_mj/satrn_shallow_5e_st_mj_20220915_152443-5fd04a4c.pth\n"
     ]
    },
    {
     "data": {
      "application/vnd.jupyter.widget-view+json": {
       "model_id": "b2dca25a6a584738a48a496f50cfb38b",
       "version_major": 2,
       "version_minor": 0
      },
      "text/plain": [
       "Output()"
      ]
     },
     "metadata": {},
     "output_type": "display_data"
    },
    {
     "name": "stdout",
     "output_type": "stream",
     "text": [
      "The model and loaded state dict do not match exactly\n",
      "\n",
      "unexpected key in source state_dict: data_preprocessor.mean, data_preprocessor.std\n",
      "\n"
     ]
    },
    {
     "data": {
      "text/html": [
       "<pre style=\"white-space:pre;overflow-x:auto;line-height:normal;font-family:Menlo,'DejaVu Sans Mono',consolas,'Courier New',monospace\">\n",
       "</pre>\n"
      ],
      "text/plain": [
       "\n"
      ]
     },
     "metadata": {},
     "output_type": "display_data"
    },
    {
     "data": {
      "text/html": [
       "<pre style=\"white-space:pre;overflow-x:auto;line-height:normal;font-family:Menlo,'DejaVu Sans Mono',consolas,'Courier New',monospace\">\n",
       "</pre>\n"
      ],
      "text/plain": [
       "\n"
      ]
     },
     "metadata": {},
     "output_type": "display_data"
    },
    {
     "data": {
      "text/html": [
       "<pre style=\"white-space:pre;overflow-x:auto;line-height:normal;font-family:Menlo,'DejaVu Sans Mono',consolas,'Courier New',monospace\"></pre>\n"
      ],
      "text/plain": []
     },
     "metadata": {},
     "output_type": "display_data"
    },
    {
     "data": {
      "text/html": [
       "<pre style=\"white-space:pre;overflow-x:auto;line-height:normal;font-family:Menlo,'DejaVu Sans Mono',consolas,'Courier New',monospace\">\n",
       "</pre>\n"
      ],
      "text/plain": [
       "\n"
      ]
     },
     "metadata": {},
     "output_type": "display_data"
    },
    {
     "name": "stdout",
     "output_type": "stream",
     "text": [
      "Current frame ocr texts are [\"'er\", 'und', 'Kaiserslautern', 'auf', 'feel', 'Linie', 'RB70/71', 'beachten!', 'Bitte', 'in']\n",
      "Saved cropped opflow box to ./train8_image_frames/croppedOpflow/frame_num_450.jpg\n",
      "Loads checkpoint by http backend from path: https://download.openmmlab.com/mmocr/textdet/dbnet/dbnet_resnet50-oclip_1200e_icdar2015/dbnet_resnet50-oclip_1200e_icdar2015_20221102_115917-bde8c87a.pth\n",
      "Loads checkpoint by http backend from path: https://download.openmmlab.com/mmocr/textrecog/satrn/satrn_shallow_5e_st_mj/satrn_shallow_5e_st_mj_20220915_152443-5fd04a4c.pth\n"
     ]
    },
    {
     "data": {
      "application/vnd.jupyter.widget-view+json": {
       "model_id": "ae013cfe712344928e8ba1f354a6faeb",
       "version_major": 2,
       "version_minor": 0
      },
      "text/plain": [
       "Output()"
      ]
     },
     "metadata": {},
     "output_type": "display_data"
    },
    {
     "name": "stdout",
     "output_type": "stream",
     "text": [
      "The model and loaded state dict do not match exactly\n",
      "\n",
      "unexpected key in source state_dict: data_preprocessor.mean, data_preprocessor.std\n",
      "\n"
     ]
    },
    {
     "data": {
      "text/html": [
       "<pre style=\"white-space:pre;overflow-x:auto;line-height:normal;font-family:Menlo,'DejaVu Sans Mono',consolas,'Courier New',monospace\">\n",
       "</pre>\n"
      ],
      "text/plain": [
       "\n"
      ]
     },
     "metadata": {},
     "output_type": "display_data"
    },
    {
     "data": {
      "text/html": [
       "<pre style=\"white-space:pre;overflow-x:auto;line-height:normal;font-family:Menlo,'DejaVu Sans Mono',consolas,'Courier New',monospace\">\n",
       "</pre>\n"
      ],
      "text/plain": [
       "\n"
      ]
     },
     "metadata": {},
     "output_type": "display_data"
    },
    {
     "data": {
      "text/html": [
       "<pre style=\"white-space:pre;overflow-x:auto;line-height:normal;font-family:Menlo,'DejaVu Sans Mono',consolas,'Courier New',monospace\"></pre>\n"
      ],
      "text/plain": []
     },
     "metadata": {},
     "output_type": "display_data"
    },
    {
     "data": {
      "text/html": [
       "<pre style=\"white-space:pre;overflow-x:auto;line-height:normal;font-family:Menlo,'DejaVu Sans Mono',consolas,'Courier New',monospace\">\n",
       "</pre>\n"
      ],
      "text/plain": [
       "\n"
      ]
     },
     "metadata": {},
     "output_type": "display_data"
    },
    {
     "name": "stdout",
     "output_type": "stream",
     "text": [
      "Current frame ocr texts are ['aiserslautern', 'auf', 'der', 'Linie', 'RB70/71', 'beachten!', 'Bitte', 'informiere']\n",
      "Saved cropped opflow box to ./train8_image_frames/croppedOpflow/frame_num_500.jpg\n",
      "Loads checkpoint by http backend from path: https://download.openmmlab.com/mmocr/textdet/dbnet/dbnet_resnet50-oclip_1200e_icdar2015/dbnet_resnet50-oclip_1200e_icdar2015_20221102_115917-bde8c87a.pth\n",
      "Loads checkpoint by http backend from path: https://download.openmmlab.com/mmocr/textrecog/satrn/satrn_shallow_5e_st_mj/satrn_shallow_5e_st_mj_20220915_152443-5fd04a4c.pth\n"
     ]
    },
    {
     "data": {
      "application/vnd.jupyter.widget-view+json": {
       "model_id": "ea1bcee432684c07b03b6af0088b184c",
       "version_major": 2,
       "version_minor": 0
      },
      "text/plain": [
       "Output()"
      ]
     },
     "metadata": {},
     "output_type": "display_data"
    },
    {
     "name": "stdout",
     "output_type": "stream",
     "text": [
      "The model and loaded state dict do not match exactly\n",
      "\n",
      "unexpected key in source state_dict: data_preprocessor.mean, data_preprocessor.std\n",
      "\n"
     ]
    },
    {
     "data": {
      "text/html": [
       "<pre style=\"white-space:pre;overflow-x:auto;line-height:normal;font-family:Menlo,'DejaVu Sans Mono',consolas,'Courier New',monospace\">\n",
       "</pre>\n"
      ],
      "text/plain": [
       "\n"
      ]
     },
     "metadata": {},
     "output_type": "display_data"
    },
    {
     "data": {
      "text/html": [
       "<pre style=\"white-space:pre;overflow-x:auto;line-height:normal;font-family:Menlo,'DejaVu Sans Mono',consolas,'Courier New',monospace\">\n",
       "</pre>\n"
      ],
      "text/plain": [
       "\n"
      ]
     },
     "metadata": {},
     "output_type": "display_data"
    },
    {
     "data": {
      "text/html": [
       "<pre style=\"white-space:pre;overflow-x:auto;line-height:normal;font-family:Menlo,'DejaVu Sans Mono',consolas,'Courier New',monospace\"></pre>\n"
      ],
      "text/plain": []
     },
     "metadata": {},
     "output_type": "display_data"
    },
    {
     "data": {
      "text/html": [
       "<pre style=\"white-space:pre;overflow-x:auto;line-height:normal;font-family:Menlo,'DejaVu Sans Mono',consolas,'Courier New',monospace\">\n",
       "</pre>\n"
      ],
      "text/plain": [
       "\n"
      ]
     },
     "metadata": {},
     "output_type": "display_data"
    },
    {
     "name": "stdout",
     "output_type": "stream",
     "text": [
      "Current frame ocr texts are ['utern', 'auf', 'der', 'Linie', 'RB70/71', 'beachten!', 'Bitte', 'informieren', 'Sie', 'sid']\n",
      "Saved cropped opflow box to ./train8_image_frames/croppedOpflow/frame_num_550.jpg\n",
      "Loads checkpoint by http backend from path: https://download.openmmlab.com/mmocr/textdet/dbnet/dbnet_resnet50-oclip_1200e_icdar2015/dbnet_resnet50-oclip_1200e_icdar2015_20221102_115917-bde8c87a.pth\n",
      "Loads checkpoint by http backend from path: https://download.openmmlab.com/mmocr/textrecog/satrn/satrn_shallow_5e_st_mj/satrn_shallow_5e_st_mj_20220915_152443-5fd04a4c.pth\n"
     ]
    },
    {
     "data": {
      "application/vnd.jupyter.widget-view+json": {
       "model_id": "21d1fe83a7214d42b354a4864bda8737",
       "version_major": 2,
       "version_minor": 0
      },
      "text/plain": [
       "Output()"
      ]
     },
     "metadata": {},
     "output_type": "display_data"
    },
    {
     "name": "stdout",
     "output_type": "stream",
     "text": [
      "The model and loaded state dict do not match exactly\n",
      "\n",
      "unexpected key in source state_dict: data_preprocessor.mean, data_preprocessor.std\n",
      "\n"
     ]
    },
    {
     "data": {
      "text/html": [
       "<pre style=\"white-space:pre;overflow-x:auto;line-height:normal;font-family:Menlo,'DejaVu Sans Mono',consolas,'Courier New',monospace\">\n",
       "</pre>\n"
      ],
      "text/plain": [
       "\n"
      ]
     },
     "metadata": {},
     "output_type": "display_data"
    },
    {
     "data": {
      "text/html": [
       "<pre style=\"white-space:pre;overflow-x:auto;line-height:normal;font-family:Menlo,'DejaVu Sans Mono',consolas,'Courier New',monospace\">\n",
       "</pre>\n"
      ],
      "text/plain": [
       "\n"
      ]
     },
     "metadata": {},
     "output_type": "display_data"
    },
    {
     "data": {
      "text/html": [
       "<pre style=\"white-space:pre;overflow-x:auto;line-height:normal;font-family:Menlo,'DejaVu Sans Mono',consolas,'Courier New',monospace\"></pre>\n"
      ],
      "text/plain": []
     },
     "metadata": {},
     "output_type": "display_data"
    },
    {
     "data": {
      "text/html": [
       "<pre style=\"white-space:pre;overflow-x:auto;line-height:normal;font-family:Menlo,'DejaVu Sans Mono',consolas,'Courier New',monospace\">\n",
       "</pre>\n"
      ],
      "text/plain": [
       "\n"
      ]
     },
     "metadata": {},
     "output_type": "display_data"
    },
    {
     "name": "stdout",
     "output_type": "stream",
     "text": [
      "Current frame ocr texts are ['der', 'Linie', 'RB70/71', 'beachten!', 'Bitte', 'informieren', 'Sir', 'sich', 'unter']\n",
      "Saved cropped opflow box to ./train8_image_frames/croppedOpflow/frame_num_600.jpg\n",
      "Loads checkpoint by http backend from path: https://download.openmmlab.com/mmocr/textdet/dbnet/dbnet_resnet50-oclip_1200e_icdar2015/dbnet_resnet50-oclip_1200e_icdar2015_20221102_115917-bde8c87a.pth\n",
      "Loads checkpoint by http backend from path: https://download.openmmlab.com/mmocr/textrecog/satrn/satrn_shallow_5e_st_mj/satrn_shallow_5e_st_mj_20220915_152443-5fd04a4c.pth\n"
     ]
    },
    {
     "data": {
      "application/vnd.jupyter.widget-view+json": {
       "model_id": "590ea65d7b404c1da699d0a8b23b84a3",
       "version_major": 2,
       "version_minor": 0
      },
      "text/plain": [
       "Output()"
      ]
     },
     "metadata": {},
     "output_type": "display_data"
    },
    {
     "name": "stdout",
     "output_type": "stream",
     "text": [
      "The model and loaded state dict do not match exactly\n",
      "\n",
      "unexpected key in source state_dict: data_preprocessor.mean, data_preprocessor.std\n",
      "\n"
     ]
    },
    {
     "data": {
      "text/html": [
       "<pre style=\"white-space:pre;overflow-x:auto;line-height:normal;font-family:Menlo,'DejaVu Sans Mono',consolas,'Courier New',monospace\">\n",
       "</pre>\n"
      ],
      "text/plain": [
       "\n"
      ]
     },
     "metadata": {},
     "output_type": "display_data"
    },
    {
     "data": {
      "text/html": [
       "<pre style=\"white-space:pre;overflow-x:auto;line-height:normal;font-family:Menlo,'DejaVu Sans Mono',consolas,'Courier New',monospace\">\n",
       "</pre>\n"
      ],
      "text/plain": [
       "\n"
      ]
     },
     "metadata": {},
     "output_type": "display_data"
    },
    {
     "data": {
      "text/html": [
       "<pre style=\"white-space:pre;overflow-x:auto;line-height:normal;font-family:Menlo,'DejaVu Sans Mono',consolas,'Courier New',monospace\"></pre>\n"
      ],
      "text/plain": []
     },
     "metadata": {},
     "output_type": "display_data"
    },
    {
     "data": {
      "text/html": [
       "<pre style=\"white-space:pre;overflow-x:auto;line-height:normal;font-family:Menlo,'DejaVu Sans Mono',consolas,'Courier New',monospace\">\n",
       "</pre>\n"
      ],
      "text/plain": [
       "\n"
      ]
     },
     "metadata": {},
     "output_type": "display_data"
    },
    {
     "name": "stdout",
     "output_type": "stream",
     "text": [
      "Current frame ocr texts are ['RB70/71', 'beachten!', 'Bitte', 'informieren', 'Sie', 'sich', 'unter', 'bahn.de']\n",
      "Saved cropped opflow box to ./train8_image_frames/croppedOpflow/frame_num_650.jpg\n",
      "Loads checkpoint by http backend from path: https://download.openmmlab.com/mmocr/textdet/dbnet/dbnet_resnet50-oclip_1200e_icdar2015/dbnet_resnet50-oclip_1200e_icdar2015_20221102_115917-bde8c87a.pth\n",
      "Loads checkpoint by http backend from path: https://download.openmmlab.com/mmocr/textrecog/satrn/satrn_shallow_5e_st_mj/satrn_shallow_5e_st_mj_20220915_152443-5fd04a4c.pth\n"
     ]
    },
    {
     "data": {
      "application/vnd.jupyter.widget-view+json": {
       "model_id": "83884ea53f51447ba2b8070600578885",
       "version_major": 2,
       "version_minor": 0
      },
      "text/plain": [
       "Output()"
      ]
     },
     "metadata": {},
     "output_type": "display_data"
    },
    {
     "name": "stdout",
     "output_type": "stream",
     "text": [
      "The model and loaded state dict do not match exactly\n",
      "\n",
      "unexpected key in source state_dict: data_preprocessor.mean, data_preprocessor.std\n",
      "\n"
     ]
    },
    {
     "data": {
      "text/html": [
       "<pre style=\"white-space:pre;overflow-x:auto;line-height:normal;font-family:Menlo,'DejaVu Sans Mono',consolas,'Courier New',monospace\">\n",
       "</pre>\n"
      ],
      "text/plain": [
       "\n"
      ]
     },
     "metadata": {},
     "output_type": "display_data"
    },
    {
     "data": {
      "text/html": [
       "<pre style=\"white-space:pre;overflow-x:auto;line-height:normal;font-family:Menlo,'DejaVu Sans Mono',consolas,'Courier New',monospace\">\n",
       "</pre>\n"
      ],
      "text/plain": [
       "\n"
      ]
     },
     "metadata": {},
     "output_type": "display_data"
    },
    {
     "data": {
      "text/html": [
       "<pre style=\"white-space:pre;overflow-x:auto;line-height:normal;font-family:Menlo,'DejaVu Sans Mono',consolas,'Courier New',monospace\"></pre>\n"
      ],
      "text/plain": []
     },
     "metadata": {},
     "output_type": "display_data"
    },
    {
     "data": {
      "text/html": [
       "<pre style=\"white-space:pre;overflow-x:auto;line-height:normal;font-family:Menlo,'DejaVu Sans Mono',consolas,'Courier New',monospace\">\n",
       "</pre>\n"
      ],
      "text/plain": [
       "\n"
      ]
     },
     "metadata": {},
     "output_type": "display_data"
    },
    {
     "name": "stdout",
     "output_type": "stream",
     "text": [
      "Current frame ocr texts are ['beachten!', 'Bitte', 'informieren', 'Sie', 'sich', 'unter', 'bahn.de', '+++', 'For']\n"
     ]
    }
   ],
   "source": [
    "ocr_texts = []\n",
    "\n",
    "output_path = f\"{video_frames_dir}/croppedOpflow\"\n",
    "if os.path.isdir(output_path):\n",
    "    print(\"The cropped folders exists! Please can delete them :)\")\n",
    "else:\n",
    "    os.makedirs(output_path)\n",
    "\n",
    "for frame_num in saved_frame_nums:\n",
    "    frame_path = f\"{video_frames_dir}/frame{frame_num}.png\"\n",
    "        \n",
    "    opflow_crop_path = f\"{output_path}/frame_num_{frame_num}.jpg\"\n",
    "    crop_and_save_image(frame_path, rolling_box, opflow_crop_path)\n",
    "    \n",
    "    print(f\"Saved cropped opflow box to {opflow_crop_path}\")\n",
    "    \n",
    "    opflow_crop_with_border_path = f\"{output_path}/frame_num_{frame_num}_border.jpg\"\n",
    "    add_borders(opflow_crop_path, opflow_crop_with_border_path)\n",
    "    cur_ocr_texts = get_ocr_texts(opflow_crop_with_border_path)\n",
    "    print(f\"Current frame ocr texts are {cur_ocr_texts}\")\n",
    "    ocr_texts.append(cur_ocr_texts)\n",
    "    \n",
    "    "
   ]
  },
  {
   "cell_type": "code",
   "execution_count": 23,
   "metadata": {},
   "outputs": [
    {
     "data": {
      "text/plain": [
       "[['sich',\n",
       "  'unter',\n",
       "  'bahn.de',\n",
       "  '+++',\n",
       "  'Ferienfahrplan',\n",
       "  'bis',\n",
       "  '25.08.24',\n",
       "  'zwischer'],\n",
       " ['nter',\n",
       "  'bahn.de',\n",
       "  '+++',\n",
       "  'Ferienfahrplan',\n",
       "  'big',\n",
       "  '25.08.24',\n",
       "  'zwischen',\n",
       "  'Trier'],\n",
       " ['n.de',\n",
       "  '+++',\n",
       "  'Ferienfahrplan',\n",
       "  'bis',\n",
       "  '25.08.24',\n",
       "  'zwischen',\n",
       "  'Trier',\n",
       "  'und',\n",
       "  'Kaise'],\n",
       " ['Ferienfahrplan',\n",
       "  'bis',\n",
       "  '25.08.24',\n",
       "  'zwischen',\n",
       "  'Trier',\n",
       "  'und',\n",
       "  'Kaiserslauter'],\n",
       " ['fahrplan',\n",
       "  'bis',\n",
       "  '25.08.24',\n",
       "  'zwischen',\n",
       "  'Trier',\n",
       "  'und',\n",
       "  'Kaiserslautern',\n",
       "  'for',\n",
       "  'for'],\n",
       " ['bis',\n",
       "  '25.08.24',\n",
       "  'zwischen',\n",
       "  'Trier',\n",
       "  'und',\n",
       "  'Kaiserslautern',\n",
       "  'and',\n",
       "  'der',\n",
       "  'Linie',\n",
       "  'Re:'],\n",
       " ['3.24',\n",
       "  'zwischen',\n",
       "  'Trier',\n",
       "  'and',\n",
       "  'Kaiserslautern',\n",
       "  'auf',\n",
       "  'der',\n",
       "  'Linie',\n",
       "  'RB70/71'],\n",
       " ['schen',\n",
       "  'Trier',\n",
       "  'und',\n",
       "  'Kaiserslautern',\n",
       "  'adf',\n",
       "  'der',\n",
       "  'Linie',\n",
       "  'RB70/71',\n",
       "  'beachten'],\n",
       " [\"'er\",\n",
       "  'und',\n",
       "  'Kaiserslautern',\n",
       "  'auf',\n",
       "  'feel',\n",
       "  'Linie',\n",
       "  'RB70/71',\n",
       "  'beachten!',\n",
       "  'Bitte',\n",
       "  'in'],\n",
       " ['aiserslautern',\n",
       "  'auf',\n",
       "  'der',\n",
       "  'Linie',\n",
       "  'RB70/71',\n",
       "  'beachten!',\n",
       "  'Bitte',\n",
       "  'informiere'],\n",
       " ['utern',\n",
       "  'auf',\n",
       "  'der',\n",
       "  'Linie',\n",
       "  'RB70/71',\n",
       "  'beachten!',\n",
       "  'Bitte',\n",
       "  'informieren',\n",
       "  'Sie',\n",
       "  'sid'],\n",
       " ['der',\n",
       "  'Linie',\n",
       "  'RB70/71',\n",
       "  'beachten!',\n",
       "  'Bitte',\n",
       "  'informieren',\n",
       "  'Sir',\n",
       "  'sich',\n",
       "  'unter'],\n",
       " ['RB70/71',\n",
       "  'beachten!',\n",
       "  'Bitte',\n",
       "  'informieren',\n",
       "  'Sie',\n",
       "  'sich',\n",
       "  'unter',\n",
       "  'bahn.de'],\n",
       " ['beachten!',\n",
       "  'Bitte',\n",
       "  'informieren',\n",
       "  'Sie',\n",
       "  'sich',\n",
       "  'unter',\n",
       "  'bahn.de',\n",
       "  '+++',\n",
       "  'For']]"
      ]
     },
     "execution_count": 23,
     "metadata": {},
     "output_type": "execute_result"
    }
   ],
   "source": [
    "ocr_texts"
   ]
  },
  {
   "cell_type": "markdown",
   "metadata": {},
   "source": [
    "* After we get these cropped opflow boxes, mmocr works badly on them....\n",
    "\n",
    "But somehow add a wide border around these boxes can give us good results!\n",
    "\n",
    "Maybe because these boxes are toooo flat"
   ]
  }
 ],
 "metadata": {
  "kernelspec": {
   "display_name": "Python 3 (ipykernel)",
   "language": "python",
   "name": "python3"
  },
  "language_info": {
   "codemirror_mode": {
    "name": "ipython",
    "version": 3
   },
   "file_extension": ".py",
   "mimetype": "text/x-python",
   "name": "python",
   "nbconvert_exporter": "python",
   "pygments_lexer": "ipython3",
   "version": "3.9.13"
  }
 },
 "nbformat": 4,
 "nbformat_minor": 4
}
